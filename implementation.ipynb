{
  "cells": [
    {
      "cell_type": "code",
      "execution_count": null,
      "metadata": {
        "id": "22I3SrWxbyIP"
      },
      "outputs": [],
      "source": [
        "import keras\n",
        "import keras.layers as layers\n",
        "import numpy as np\n",
        "import copy"
      ]
    },
    {
      "cell_type": "markdown",
      "metadata": {
        "id": "ywg7K-nMkmo6"
      },
      "source": [
        "## Genetic Algorithm implementation"
      ]
    },
    {
      "cell_type": "code",
      "execution_count": null,
      "metadata": {
        "id": "QLJ6kU005xfp"
      },
      "outputs": [],
      "source": [
        "from typing import List, Tuple, Dict\n",
        "\n",
        "class MLPSearchSpace:\n",
        "    \"\"\"\n",
        "    Class for storing possible variations of hyperparameters.\n",
        "    \"\"\"\n",
        "\n",
        "    num_hidden_range: Tuple[int, int]\n",
        "    activation_funcs: List[str]\n",
        "    layer_size_range: Tuple[int, int]\n",
        "\n",
        "    def __init__(self, num_hidden_range=[1, 8], activation_funcs=['relu', 'sigmoid', 'tanh', 'softplus', 'leaky_relu', 'linear'], layer_size_range=[8, 128]):\n",
        "        assert len(num_hidden_range) == 2 and isinstance(num_hidden_range[0], int) and isinstance(num_hidden_range[1], int) and num_hidden_range[0] <= num_hidden_range[1]\n",
        "        assert len(activation_funcs) != 0 and all([func in ['relu', 'sigmoid', 'tanh', 'softplus', 'leaky_relu']] for func in activation_funcs)\n",
        "        assert len(layer_size_range) == 2 and isinstance(layer_size_range[0], int) and isinstance(layer_size_range[1], int) and layer_size_range[0] <= layer_size_range[1]\n",
        "\n",
        "        self.num_hidden_range = num_hidden_range\n",
        "        self.activation_funcs = activation_funcs\n",
        "        self.layer_size_range = layer_size_range"
      ]
    },
    {
      "cell_type": "code",
      "execution_count": null,
      "metadata": {
        "id": "6R5fPMg6LTse"
      },
      "outputs": [],
      "source": [
        "class Dataset:\n",
        "    \"\"\"\n",
        "    Class for dataset access within a model.\n",
        "    \"\"\"\n",
        "\n",
        "    X_train: np.array\n",
        "    Y_train: np.array\n",
        "    X_test: np.array\n",
        "    Y_test: np.array\n",
        "\n",
        "    def __init__(self,\n",
        "                 X_train: np.array,\n",
        "                 Y_train: np.array,\n",
        "                 X_test: np.array,\n",
        "                 Y_test: np.array):\n",
        "      self.X_train = X_train\n",
        "      self.Y_train = Y_train\n",
        "      self.X_test = X_test\n",
        "      self.Y_test = Y_test"
      ]
    },
    {
      "cell_type": "code",
      "execution_count": null,
      "metadata": {
        "id": "nQWwaRYuL1W-"
      },
      "outputs": [],
      "source": [
        "class MLPOptimizer:\n",
        "    \"\"\"\n",
        "    Class for optimizer setup.\n",
        "    \"\"\"\n",
        "\n",
        "    batch_size: int\n",
        "    epochs: int\n",
        "    validation_split: float\n",
        "    loss: str\n",
        "    optimizer: str\n",
        "    metrics: List[str]\n",
        "\n",
        "    def __init__(self, batch_size: int = 128, epochs: int = 20, validation_split: float = .1, loss: str = 'categorical_crossentropy', optimizer: str = 'adam', metrics: List[str] = ['accuracy']):\n",
        "        self.batch_size = batch_size\n",
        "        self.epochs = epochs\n",
        "        self.validation_split = validation_split\n",
        "        self.loss = loss\n",
        "        self.optimizer = optimizer\n",
        "        self.metrics = metrics"
      ]
    },
    {
      "cell_type": "code",
      "execution_count": null,
      "metadata": {
        "id": "HHBRvpaS7Oxh"
      },
      "outputs": [],
      "source": [
        "class DNN(keras.Model):\n",
        "    \"\"\"\n",
        "    Sub-class of keras.Model for representing MLP.\n",
        "    \"\"\"\n",
        "\n",
        "    hidden_layers: List[layers.Dense]\n",
        "    output_layer: layers.Dense\n",
        "    output_layer_config: Tuple[int, str]\n",
        "\n",
        "    def __init__(self, hidden_layers, output_layer_config):\n",
        "        super().__init__()\n",
        "        self.hidden_layers = hidden_layers.copy()\n",
        "        self.output_layer = layers.Dense(output_layer_config[0], activation=output_layer_config[1])\n",
        "        self.output_layer_config = output_layer_config\n",
        "\n",
        "    def build(self, input_shape):\n",
        "        for layer in self.hidden_layers:\n",
        "            layer.build(input_shape)\n",
        "            input_shape = layer.compute_output_shape(input_shape)\n",
        "        self.output_layer.build(input_shape)\n",
        "        self.built = True\n",
        "\n",
        "    def __copy__(self):\n",
        "        \"\"\"\n",
        "        Copies the model without building it.\n",
        "        \"\"\"\n",
        "        copy_hidden_layers = []\n",
        "        for layer in self.hidden_layers:\n",
        "            if layer.name.startswith('dropout'):\n",
        "                copy_hidden_layers.append(layers.Dropout.from_config(layer.get_config()))\n",
        "            else:\n",
        "                copy_hidden_layers.append(layers.Dense.from_config(layer.get_config()))\n",
        "        return DNN(copy_hidden_layers, self.output_layer_config)\n",
        "\n",
        "    def call(self, inputs):\n",
        "        for layer in self.hidden_layers: inputs = layer(inputs)\n",
        "        return self.output_layer(inputs)"
      ]
    },
    {
      "cell_type": "code",
      "execution_count": null,
      "metadata": {
        "id": "hesAAfCgW75r"
      },
      "outputs": [],
      "source": [
        "def softmax(arr: np.array) -> np.array:\n",
        "    \"\"\"\n",
        "    Softmax function implementation.\n",
        "    \"\"\"\n",
        "\n",
        "    return np.exp(arr) / np.sum(np.exp(arr))"
      ]
    },
    {
      "cell_type": "code",
      "execution_count": 116,
      "metadata": {
        "id": "qy1RUYm-4NnA"
      },
      "outputs": [],
      "source": [
        "class GeneticMLP:\n",
        "    \"\"\"\n",
        "    Genetic Algorithm pipeline for tuning MLP hyperparameters\n",
        "    trained on a specified dataset.\n",
        "    \"\"\"\n",
        "\n",
        "    _PACT: float = .2   # probability for a layer (dense) to change activation function\n",
        "    _PREM: float = .6   # probability for a model to remove one layer\n",
        "    _PADD: float = .6   # probability for a model to add one layer\n",
        "    _PDROP: float = .25   # probability for a model to add a dropout layer\n",
        "    lower_bound = 2   # lower bound on the number of layers so that a model would not gain more layers\n",
        "    upper_bound = 5   # upper bound on the number of layers so that a model would not lose layers\n",
        "\n",
        "    dataset: Dataset\n",
        "    population: List[DNN]\n",
        "    fitness: List[float]\n",
        "    input_dim: int\n",
        "    output_layer_config: Tuple[int, str]    # (num_of_outputs, activation_on_output)\n",
        "    optimizer: MLPOptimizer\n",
        "    search_space: MLPSearchSpace\n",
        "    population_size: int\n",
        "    rnd: np.random.RandomState\n",
        "    best_solution: DNN\n",
        "    best_fitness: float\n",
        "\n",
        "    def _generate_model(self) -> DNN:\n",
        "        \"\"\"\n",
        "        Randomly generates a model with characteristics from the search space.\n",
        "        \"\"\"\n",
        "\n",
        "        num_hidden = self.rnd.randint(*self.search_space.num_hidden_range)\n",
        "        hidden_layers = []\n",
        "        for layer_idx in range(num_hidden):\n",
        "            layer_size = self.rnd.randint(*self.search_space.layer_size_range)\n",
        "            activation = self.rnd.choice(self.search_space.activation_funcs)\n",
        "            hidden_layers.append(layers.Dense(layer_size, activation=activation))\n",
        "        return DNN(hidden_layers=hidden_layers, output_layer_config=self.output_layer_config)\n",
        "\n",
        "    def _cross(self, model1: DNN, model2: DNN) -> DNN:\n",
        "        \"\"\"\n",
        "        Produces a new model from two parent models.\n",
        "        \"\"\"\n",
        "\n",
        "        child: DNN = copy.copy(model1)\n",
        "        for i, _ in enumerate(model1.hidden_layers):\n",
        "            if self.rnd.random() < .5:\n",
        "                j: int = self.rnd.randint(0, len(model2.hidden_layers))\n",
        "                child.hidden_layers[i] = model2.hidden_layers[j]\n",
        "        return child\n",
        "\n",
        "    def _mutate(self, model: DNN) -> None:\n",
        "        \"\"\"\n",
        "        Applies mutations on the passed model.\n",
        "        \"\"\"\n",
        "\n",
        "        if (size:=len(model.hidden_layers)) >= self.upper_bound and self.rnd.random() < self._PREM:\n",
        "            remove_idx = self.rnd.choice(size)\n",
        "            model.hidden_layers.pop(remove_idx)\n",
        "        if (size:=len(model.hidden_layers)) <= self.lower_bound and self.rnd.random() < self._PADD:\n",
        "            add_idx = self.rnd.choice(size)\n",
        "            layer_size = self.rnd.randint(*self.search_space.layer_size_range)\n",
        "            activation = self.rnd.choice(self.search_space.activation_funcs)\n",
        "            model.hidden_layers.insert(add_idx, layers.Dense(layer_size, activation=activation))\n",
        "        if (size:=len(model.hidden_layers)) >= self.lower_bound and self.rnd.random() < self._PDROP:\n",
        "            drop_out_idx = self.rnd.choice(range(1, size))\n",
        "            model.hidden_layers.insert(drop_out_idx, layers.Dropout( self.rnd.random() ))\n",
        "\n",
        "        for i, layer in enumerate(model.hidden_layers):\n",
        "            if (layer.name.startswith('dense') and self.rnd.random() < self._PACT):\n",
        "                new_activation: str = self.rnd.choice(self.search_space.activation_funcs)\n",
        "                cfg = layer.get_config()\n",
        "                cfg['activation'] = new_activation\n",
        "                model.hidden_layers[i] = layers.Dense.from_config(cfg)\n",
        "\n",
        "    def evaluate(self, population: List[DNN]) -> List[int]:\n",
        "        \"\"\"\n",
        "        Evaluates fitness score (test accuracy) of the passed population.\n",
        "        \"\"\"\n",
        "\n",
        "        fitness = [0] * len(population)\n",
        "        for i, model in enumerate(population):\n",
        "            eval_model = copy.copy(model)\n",
        "            eval_model.compile(loss=self.optimizer.loss, optimizer=self.optimizer.optimizer, metrics=self.optimizer.metrics)\n",
        "            eval_model.fit(self.dataset.X_train, self.dataset.Y_train, batch_size=self.optimizer.batch_size, epochs=self.optimizer.epochs, validation_split=self.optimizer.validation_split, verbose=False)\n",
        "            _, test_accuracy, *_ = eval_model.evaluate(self.dataset.X_test, self.dataset.Y_test, verbose=0)\n",
        "            fitness[i] = test_accuracy\n",
        "        return fitness\n",
        "\n",
        "    def generate(self, verbose=False) -> None:\n",
        "        \"\"\"\n",
        "        Performes GA steps for a single generation.\n",
        "        \"\"\"\n",
        "\n",
        "        if verbose:\n",
        "            print(f\"Current population fitness scores:\\n\\taverage: {np.mean(self.fitness)}\\n\\tmax: {np.max(self.fitness)}\\n\\tmin: {np.min(self.fitness)}\")\n",
        "\n",
        "        # Crossover\n",
        "        children: List[DNN] = []\n",
        "        for _ in range(self.population_size // 2):\n",
        "            parent1_id, parent2_id = self.rnd.choice(list(range(self.population_size)), size=2, replace=False, p=softmax(self.fitness))\n",
        "            child = self._cross(self.population[parent1_id], self.population[parent2_id])\n",
        "            children.append(child)\n",
        "\n",
        "        # Mutation\n",
        "        for child in children:\n",
        "            self._mutate(child)\n",
        "\n",
        "        # Evaluate the best individual\n",
        "        child_fitness = self.evaluate(children)\n",
        "        self.population.extend(children)\n",
        "        self.fitness.extend(child_fitness)\n",
        "\n",
        "        if verbose:\n",
        "            print(f\"Fitness scores after variations:\\n\\taverage: {np.mean(self.fitness)}\\n\\tmax: {np.max(self.fitness)}\\n\\tmin: {np.min(self.fitness)}\")\n",
        "\n",
        "        best_idx = np.argmax(self.fitness)\n",
        "        best_individual = self.population[best_idx]\n",
        "\n",
        "        print(f\"Best individual score: {self.fitness[best_idx]}\")\n",
        "\n",
        "        if self.fitness[best_idx] > self.best_fitness:\n",
        "            self.best_solution = copy.copy(best_individual)\n",
        "            self.best_fitness = self.fitness[best_idx]\n",
        "\n",
        "        # Tournament selection for the next iteration\n",
        "        new_population = []\n",
        "        new_fitness = []\n",
        "        for _ in range(self.population_size):\n",
        "            candidate1_id, candidate2_id = self.rnd.choice(list(range(len(self.population))), size=2, replace=False, p=softmax(self.fitness))\n",
        "            winner_id = candidate1_id if (self.fitness[candidate1_id] > self.fitness[candidate2_id]) else candidate2_id\n",
        "            new_population.append(self.population[winner_id])\n",
        "            new_fitness.append(self.fitness[winner_id])\n",
        "        self.population = new_population\n",
        "        self.fitness = new_fitness\n",
        "\n",
        "    def __init__(self,\n",
        "                 dataset: Dataset,\n",
        "                 input_dim: int = 784,\n",
        "                 output_layer_config: Tuple[int, str] = (10, 'softmax'),\n",
        "                 optimizer: MLPOptimizer = MLPOptimizer(),\n",
        "                 search_space: MLPSearchSpace = MLPSearchSpace(),\n",
        "                 population_size: int = 10,\n",
        "                 rnd=np.random.RandomState()):\n",
        "        self.dataset = dataset\n",
        "        self.input_dim = input_dim\n",
        "        self.output_layer_config = output_layer_config\n",
        "        self.optimizer = optimizer\n",
        "        self.search_space = search_space\n",
        "        self.population_size = population_size\n",
        "        self.rnd = rnd\n",
        "        self.population = []\n",
        "        self.fitness = [0.0] * self.population_size\n",
        "        self.best_solution = None\n",
        "        self.best_fitness = 0.0\n",
        "        for i in range(population_size):\n",
        "            model = self._generate_model()\n",
        "            self.population.append(model)\n",
        "\n",
        "    def run(self, generations: int = 1, verbose=False) -> None:\n",
        "        \"\"\"\n",
        "        Runs the provided number of generations.\n",
        "        \"\"\"\n",
        "\n",
        "        self.fitness = self.evaluate(self.population)\n",
        "        for i in range(generations):\n",
        "            print(f\"Generation {i+1} started\")\n",
        "            self.generate(verbose=verbose)\n",
        "            print(f\"End of generation {i+1}. Best individual score: {self.best_fitness}.\")\n"
      ]
    },
    {
      "cell_type": "markdown",
      "source": [
        "## Fashion-MNIST Dataset Experiment"
      ],
      "metadata": {
        "id": "BiAIZX84onMw"
      }
    },
    {
      "cell_type": "code",
      "execution_count": null,
      "metadata": {
        "id": "pw-HI35WR0Si"
      },
      "outputs": [],
      "source": [
        "# Model / data parameters\n",
        "num_classes = 10\n",
        "input_shape = (784,)\n",
        "\n",
        "(x_train, y_train), (x_test, y_test) = keras.datasets.fashion_mnist.load_data()\n",
        "\n",
        "x_train = x_train.reshape(60000, 784)\n",
        "x_test = x_test.reshape(10000, 784)\n",
        "x_train = x_train.astype('float32')\n",
        "x_test = x_test.astype('float32')\n",
        "x_train /= 255\n",
        "x_test /= 255\n",
        "\n",
        "y_train = keras.utils.to_categorical(y_train, num_classes)\n",
        "y_test = keras.utils.to_categorical(y_test, num_classes)"
      ]
    },
    {
      "cell_type": "code",
      "source": [
        "gp = GeneticMLP(dataset=Dataset(X_train=x_train, Y_train=y_train, X_test=x_test, Y_test=y_test))"
      ],
      "metadata": {
        "id": "1pUR6sDZl6iZ"
      },
      "execution_count": null,
      "outputs": []
    },
    {
      "cell_type": "code",
      "execution_count": null,
      "metadata": {
        "colab": {
          "base_uri": "https://localhost:8080/"
        },
        "outputId": "43a60645-d32f-4a9b-84ad-68d10e5bf547",
        "id": "LgH0zOCgmMjV"
      },
      "outputs": [
        {
          "metadata": {
            "tags": null
          },
          "name": "stdout",
          "output_type": "stream",
          "text": [
            "Generation 1 started\n",
            "Current population fitness scores:\n",
            "\taverage: 0.8764000117778779\n",
            "\tmax: 0.8863000273704529\n",
            "\tmin: 0.8446000218391418\n",
            "Fitness scores after variations:\n",
            "\taverage: 0.8767133394877116\n",
            "\tmax: 0.8867999911308289\n",
            "\tmin: 0.8446000218391418\n",
            "Best individual score: 0.8867999911308289\n",
            "End of generation 1. Best individual score: 0.8867999911308289.\n",
            "Generation 2 started\n",
            "Current population fitness scores:\n",
            "\taverage: 0.8833600044250488\n",
            "\tmax: 0.8867999911308289\n",
            "\tmin: 0.871399998664856\n",
            "Fitness scores after variations:\n",
            "\taverage: 0.8828733364741007\n",
            "\tmax: 0.8899000287055969\n",
            "\tmin: 0.871399998664856\n",
            "Best individual score: 0.8899000287055969\n",
            "End of generation 2. Best individual score: 0.8899000287055969.\n",
            "Generation 3 started\n",
            "Current population fitness scores:\n",
            "\taverage: 0.8868700087070465\n",
            "\tmax: 0.8899000287055969\n",
            "\tmin: 0.8851000070571899\n",
            "Fitness scores after variations:\n",
            "\taverage: 0.8833266735076905\n",
            "\tmax: 0.8899000287055969\n",
            "\tmin: 0.8723000288009644\n",
            "Best individual score: 0.8899000287055969\n",
            "End of generation 3. Best individual score: 0.8899000287055969.\n",
            "Generation 4 started\n",
            "Current population fitness scores:\n",
            "\taverage: 0.886790007352829\n",
            "\tmax: 0.8899000287055969\n",
            "\tmin: 0.8805999755859375\n",
            "Fitness scores after variations:\n",
            "\taverage: 0.8829333345095317\n",
            "\tmax: 0.8899000287055969\n",
            "\tmin: 0.8557999730110168\n",
            "Best individual score: 0.8899000287055969\n",
            "End of generation 4. Best individual score: 0.8899000287055969.\n",
            "Generation 5 started\n",
            "Current population fitness scores:\n",
            "\taverage: 0.8875600099563599\n",
            "\tmax: 0.8899000287055969\n",
            "\tmin: 0.8845999836921692\n",
            "Fitness scores after variations:\n",
            "\taverage: 0.8850000063578288\n",
            "\tmax: 0.8899000287055969\n",
            "\tmin: 0.8733000159263611\n",
            "Best individual score: 0.8899000287055969\n",
            "End of generation 5. Best individual score: 0.8899000287055969.\n",
            "Generation 6 started\n",
            "Current population fitness scores:\n",
            "\taverage: 0.8868800103664398\n",
            "\tmax: 0.8899000287055969\n",
            "\tmin: 0.8837000131607056\n",
            "Fitness scores after variations:\n",
            "\taverage: 0.883840008576711\n",
            "\tmax: 0.8899000287055969\n",
            "\tmin: 0.8693000078201294\n",
            "Best individual score: 0.8899000287055969\n",
            "End of generation 6. Best individual score: 0.8899000287055969.\n",
            "Generation 7 started\n",
            "Current population fitness scores:\n",
            "\taverage: 0.8868900060653686\n",
            "\tmax: 0.8899000287055969\n",
            "\tmin: 0.8817999958992004\n",
            "Fitness scores after variations:\n",
            "\taverage: 0.883406670888265\n",
            "\tmax: 0.8899000287055969\n",
            "\tmin: 0.8679999709129333\n",
            "Best individual score: 0.8899000287055969\n",
            "End of generation 7. Best individual score: 0.8899000287055969.\n",
            "Generation 8 started\n",
            "Current population fitness scores:\n",
            "\taverage: 0.886300003528595\n",
            "\tmax: 0.8878999948501587\n",
            "\tmin: 0.8788999915122986\n"
          ]
        }
      ],
      "source": [
        "gp.run(generations=10, verbose=True)"
      ]
    },
    {
      "cell_type": "code",
      "execution_count": null,
      "metadata": {
        "colab": {
          "base_uri": "https://localhost:8080/",
          "height": 225
        },
        "outputId": "ea8ae34d-9672-4a0b-b789-e20168d3b65c",
        "id": "tl-wRkdMo4MS"
      },
      "outputs": [
        {
          "data": {
            "text/html": [
              "<pre style=\"white-space:pre;overflow-x:auto;line-height:normal;font-family:Menlo,'DejaVu Sans Mono',consolas,'Courier New',monospace\"><span style=\"font-weight: bold\">Model: \"dnn_97\"</span>\n",
              "</pre>\n"
            ],
            "text/plain": [
              "\u001b[1mModel: \"dnn_97\"\u001b[0m\n"
            ]
          },
          "metadata": {},
          "output_type": "display_data"
        },
        {
          "data": {
            "text/html": [
              "<pre style=\"white-space:pre;overflow-x:auto;line-height:normal;font-family:Menlo,'DejaVu Sans Mono',consolas,'Courier New',monospace\">┏━━━━━━━━━━━━━━━━━━━━━━━━━━━━━━━━━━━━━━┳━━━━━━━━━━━━━━━━━━━━━━━━━━━━━┳━━━━━━━━━━━━━━━━━┓\n",
              "┃<span style=\"font-weight: bold\"> Layer (type)                         </span>┃<span style=\"font-weight: bold\"> Output Shape                </span>┃<span style=\"font-weight: bold\">         Param # </span>┃\n",
              "┡━━━━━━━━━━━━━━━━━━━━━━━━━━━━━━━━━━━━━━╇━━━━━━━━━━━━━━━━━━━━━━━━━━━━━╇━━━━━━━━━━━━━━━━━┩\n",
              "│ dense_114 (<span style=\"color: #0087ff; text-decoration-color: #0087ff\">Dense</span>)                    │ (<span style=\"color: #00af00; text-decoration-color: #00af00\">61</span>)                        │          <span style=\"color: #00af00; text-decoration-color: #00af00\">47,885</span> │\n",
              "├──────────────────────────────────────┼─────────────────────────────┼─────────────────┤\n",
              "│ dense_115 (<span style=\"color: #0087ff; text-decoration-color: #0087ff\">Dense</span>)                    │ (<span style=\"color: #00af00; text-decoration-color: #00af00\">35</span>)                        │           <span style=\"color: #00af00; text-decoration-color: #00af00\">2,170</span> │\n",
              "├──────────────────────────────────────┼─────────────────────────────┼─────────────────┤\n",
              "│ dense_185 (<span style=\"color: #0087ff; text-decoration-color: #0087ff\">Dense</span>)                    │ (<span style=\"color: #00af00; text-decoration-color: #00af00\">10</span>)                        │             <span style=\"color: #00af00; text-decoration-color: #00af00\">360</span> │\n",
              "└──────────────────────────────────────┴─────────────────────────────┴─────────────────┘\n",
              "</pre>\n"
            ],
            "text/plain": [
              "┏━━━━━━━━━━━━━━━━━━━━━━━━━━━━━━━━━━━━━━┳━━━━━━━━━━━━━━━━━━━━━━━━━━━━━┳━━━━━━━━━━━━━━━━━┓\n",
              "┃\u001b[1m \u001b[0m\u001b[1mLayer (type)                        \u001b[0m\u001b[1m \u001b[0m┃\u001b[1m \u001b[0m\u001b[1mOutput Shape               \u001b[0m\u001b[1m \u001b[0m┃\u001b[1m \u001b[0m\u001b[1m        Param #\u001b[0m\u001b[1m \u001b[0m┃\n",
              "┡━━━━━━━━━━━━━━━━━━━━━━━━━━━━━━━━━━━━━━╇━━━━━━━━━━━━━━━━━━━━━━━━━━━━━╇━━━━━━━━━━━━━━━━━┩\n",
              "│ dense_114 (\u001b[38;5;33mDense\u001b[0m)                    │ (\u001b[38;5;34m61\u001b[0m)                        │          \u001b[38;5;34m47,885\u001b[0m │\n",
              "├──────────────────────────────────────┼─────────────────────────────┼─────────────────┤\n",
              "│ dense_115 (\u001b[38;5;33mDense\u001b[0m)                    │ (\u001b[38;5;34m35\u001b[0m)                        │           \u001b[38;5;34m2,170\u001b[0m │\n",
              "├──────────────────────────────────────┼─────────────────────────────┼─────────────────┤\n",
              "│ dense_185 (\u001b[38;5;33mDense\u001b[0m)                    │ (\u001b[38;5;34m10\u001b[0m)                        │             \u001b[38;5;34m360\u001b[0m │\n",
              "└──────────────────────────────────────┴─────────────────────────────┴─────────────────┘\n"
            ]
          },
          "metadata": {},
          "output_type": "display_data"
        },
        {
          "data": {
            "text/html": [
              "<pre style=\"white-space:pre;overflow-x:auto;line-height:normal;font-family:Menlo,'DejaVu Sans Mono',consolas,'Courier New',monospace\"><span style=\"font-weight: bold\"> Total params: </span><span style=\"color: #00af00; text-decoration-color: #00af00\">50,415</span> (196.93 KB)\n",
              "</pre>\n"
            ],
            "text/plain": [
              "\u001b[1m Total params: \u001b[0m\u001b[38;5;34m50,415\u001b[0m (196.93 KB)\n"
            ]
          },
          "metadata": {},
          "output_type": "display_data"
        },
        {
          "data": {
            "text/html": [
              "<pre style=\"white-space:pre;overflow-x:auto;line-height:normal;font-family:Menlo,'DejaVu Sans Mono',consolas,'Courier New',monospace\"><span style=\"font-weight: bold\"> Trainable params: </span><span style=\"color: #00af00; text-decoration-color: #00af00\">50,415</span> (196.93 KB)\n",
              "</pre>\n"
            ],
            "text/plain": [
              "\u001b[1m Trainable params: \u001b[0m\u001b[38;5;34m50,415\u001b[0m (196.93 KB)\n"
            ]
          },
          "metadata": {},
          "output_type": "display_data"
        },
        {
          "data": {
            "text/html": [
              "<pre style=\"white-space:pre;overflow-x:auto;line-height:normal;font-family:Menlo,'DejaVu Sans Mono',consolas,'Courier New',monospace\"><span style=\"font-weight: bold\"> Non-trainable params: </span><span style=\"color: #00af00; text-decoration-color: #00af00\">0</span> (0.00 B)\n",
              "</pre>\n"
            ],
            "text/plain": [
              "\u001b[1m Non-trainable params: \u001b[0m\u001b[38;5;34m0\u001b[0m (0.00 B)\n"
            ]
          },
          "metadata": {},
          "output_type": "display_data"
        }
      ],
      "source": [
        "model = gp.best_solution\n",
        "model.build((784, ))\n",
        "model.summary()"
      ]
    },
    {
      "cell_type": "code",
      "execution_count": null,
      "metadata": {
        "colab": {
          "base_uri": "https://localhost:8080/"
        },
        "outputId": "30381aa9-23ee-4f59-ee19-772932e6e993",
        "id": "6_m7xq2fo8U7"
      },
      "outputs": [
        {
          "name": "stdout",
          "output_type": "stream",
          "text": [
            "relu\n",
            "softplus\n"
          ]
        }
      ],
      "source": [
        "for layer in model.hidden_layers:\n",
        "    if layer.name.startswith('dense'):\n",
        "        print(layer.get_config()['activation'])\n",
        "    else:\n",
        "        print(f\"dropout({layer.get_config()['rate']})\")"
      ]
    },
    {
      "cell_type": "markdown",
      "source": [
        "## Iris Dataset Experiment"
      ],
      "metadata": {
        "id": "dGCyQ3w8otXN"
      }
    },
    {
      "cell_type": "code",
      "source": [
        "from sklearn.datasets import load_iris\n",
        "from sklearn.model_selection import train_test_split\n",
        "\n",
        "x_train, x_test, y_train, y_test = train_test_split(*load_iris(return_X_y=True), test_size=.3)\n",
        "\n",
        "y_train = keras.utils.to_categorical(y_train, 3)\n",
        "y_test = keras.utils.to_categorical(y_test, 3)"
      ],
      "metadata": {
        "id": "OgQHL53UjT_A"
      },
      "execution_count": 140,
      "outputs": []
    },
    {
      "cell_type": "code",
      "execution_count": 108,
      "metadata": {
        "id": "E4t-VHJP_L6x"
      },
      "outputs": [],
      "source": [
        "gp = GeneticMLP(dataset=Dataset(X_train=x_train, Y_train=y_train, X_test=x_test, Y_test=y_test), input_dim=4, output_layer_config=(3, 'softmax'))"
      ]
    },
    {
      "cell_type": "code",
      "execution_count": 109,
      "metadata": {
        "colab": {
          "base_uri": "https://localhost:8080/"
        },
        "id": "QwL1-DKAEH6W",
        "outputId": "6ad6f82f-ffb2-4a31-fd2e-5949d698f1fa"
      },
      "outputs": [
        {
          "output_type": "stream",
          "name": "stdout",
          "text": [
            "Generation 1 started\n",
            "Current population fitness scores:\n",
            "\taverage: 0.795555567741394\n",
            "\tmax: 0.9777777791023254\n",
            "\tmin: 0.6222222447395325\n",
            "Fitness scores after variations:\n",
            "\taverage: 0.8133333444595336\n",
            "\tmax: 0.9777777791023254\n",
            "\tmin: 0.6222222447395325\n",
            "Best individual score: 0.9777777791023254\n",
            "End of generation 1. Best individual score: 0.9777777791023254.\n",
            "Generation 2 started\n",
            "Current population fitness scores:\n",
            "\taverage: 0.9088888943195343\n",
            "\tmax: 0.9777777791023254\n",
            "\tmin: 0.6888889074325562\n",
            "Fitness scores after variations:\n",
            "\taverage: 0.9007407466570536\n",
            "\tmax: 0.9777777791023254\n",
            "\tmin: 0.6888889074325562\n",
            "Best individual score: 0.9777777791023254\n",
            "End of generation 2. Best individual score: 0.9777777791023254.\n",
            "Generation 3 started\n",
            "Current population fitness scores:\n",
            "\taverage: 0.9533333361148835\n",
            "\tmax: 0.9777777791023254\n",
            "\tmin: 0.9111111164093018\n",
            "Fitness scores after variations:\n",
            "\taverage: 0.9111111164093018\n",
            "\tmax: 0.9777777791023254\n",
            "\tmin: 0.6222222447395325\n",
            "Best individual score: 0.9777777791023254\n",
            "End of generation 3. Best individual score: 0.9777777791023254.\n",
            "Generation 4 started\n",
            "Current population fitness scores:\n",
            "\taverage: 0.9444444477558136\n",
            "\tmax: 0.9777777791023254\n",
            "\tmin: 0.7333333492279053\n",
            "Fitness scores after variations:\n",
            "\taverage: 0.8829629679520925\n",
            "\tmax: 0.9777777791023254\n",
            "\tmin: 0.35555556416511536\n",
            "Best individual score: 0.9777777791023254\n",
            "End of generation 4. Best individual score: 0.9777777791023254.\n",
            "Generation 5 started\n",
            "Current population fitness scores:\n",
            "\taverage: 0.9644444465637207\n",
            "\tmax: 0.9777777791023254\n",
            "\tmin: 0.8666666746139526\n",
            "Fitness scores after variations:\n",
            "\taverage: 0.9600000023841858\n",
            "\tmax: 0.9777777791023254\n",
            "\tmin: 0.8666666746139526\n",
            "Best individual score: 0.9777777791023254\n",
            "End of generation 5. Best individual score: 0.9777777791023254.\n",
            "Generation 6 started\n",
            "Current population fitness scores:\n",
            "\taverage: 0.9666666686534882\n",
            "\tmax: 0.9777777791023254\n",
            "\tmin: 0.8888888955116272\n",
            "Fitness scores after variations:\n",
            "\taverage: 0.9392592628796895\n",
            "\tmax: 0.9777777791023254\n",
            "\tmin: 0.7111111283302307\n",
            "Best individual score: 0.9777777791023254\n",
            "End of generation 6. Best individual score: 0.9777777791023254.\n",
            "Generation 7 started\n",
            "Current population fitness scores:\n",
            "\taverage: 0.9733333349227905\n",
            "\tmax: 0.9777777791023254\n",
            "\tmin: 0.9333333373069763\n",
            "Fitness scores after variations:\n",
            "\taverage: 0.9422222256660462\n",
            "\tmax: 1.0\n",
            "\tmin: 0.6222222447395325\n",
            "Best individual score: 1.0\n",
            "End of generation 7. Best individual score: 1.0.\n",
            "Generation 8 started\n",
            "Current population fitness scores:\n",
            "\taverage: 0.9800000011920929\n",
            "\tmax: 1.0\n",
            "\tmin: 0.9777777791023254\n",
            "Fitness scores after variations:\n",
            "\taverage: 0.9333333373069763\n",
            "\tmax: 1.0\n",
            "\tmin: 0.6222222447395325\n",
            "Best individual score: 1.0\n",
            "End of generation 8. Best individual score: 1.0.\n",
            "Generation 9 started\n",
            "Current population fitness scores:\n",
            "\taverage: 0.9577777802944183\n",
            "\tmax: 1.0\n",
            "\tmin: 0.7555555701255798\n",
            "Fitness scores after variations:\n",
            "\taverage: 0.9214814861615499\n",
            "\tmax: 1.0\n",
            "\tmin: 0.644444465637207\n",
            "Best individual score: 1.0\n",
            "End of generation 9. Best individual score: 1.0.\n",
            "Generation 10 started\n",
            "Current population fitness scores:\n",
            "\taverage: 0.9622222244739532\n",
            "\tmax: 1.0\n",
            "\tmin: 0.7777777910232544\n",
            "Fitness scores after variations:\n",
            "\taverage: 0.946666669845581\n",
            "\tmax: 1.0\n",
            "\tmin: 0.7777777910232544\n",
            "Best individual score: 1.0\n",
            "End of generation 10. Best individual score: 1.0.\n"
          ]
        }
      ],
      "source": [
        "gp.run(generations=10, verbose=True)"
      ]
    },
    {
      "cell_type": "code",
      "execution_count": 110,
      "metadata": {
        "colab": {
          "base_uri": "https://localhost:8080/",
          "height": 385
        },
        "id": "pbMSnLqYV8fU",
        "outputId": "4898fae9-a9cc-4032-c427-56af8fd94569"
      },
      "outputs": [
        {
          "output_type": "display_data",
          "data": {
            "text/plain": [
              "\u001b[1mModel: \"dnn_819\"\u001b[0m\n"
            ],
            "text/html": [
              "<pre style=\"white-space:pre;overflow-x:auto;line-height:normal;font-family:Menlo,'DejaVu Sans Mono',consolas,'Courier New',monospace\"><span style=\"font-weight: bold\">Model: \"dnn_819\"</span>\n",
              "</pre>\n"
            ]
          },
          "metadata": {}
        },
        {
          "output_type": "display_data",
          "data": {
            "text/plain": [
              "┏━━━━━━━━━━━━━━━━━━━━━━━━━━━━━━━━━━━━━━┳━━━━━━━━━━━━━━━━━━━━━━━━━━━━━┳━━━━━━━━━━━━━━━━━┓\n",
              "┃\u001b[1m \u001b[0m\u001b[1mLayer (type)                        \u001b[0m\u001b[1m \u001b[0m┃\u001b[1m \u001b[0m\u001b[1mOutput Shape               \u001b[0m\u001b[1m \u001b[0m┃\u001b[1m \u001b[0m\u001b[1m        Param #\u001b[0m\u001b[1m \u001b[0m┃\n",
              "┡━━━━━━━━━━━━━━━━━━━━━━━━━━━━━━━━━━━━━━╇━━━━━━━━━━━━━━━━━━━━━━━━━━━━━╇━━━━━━━━━━━━━━━━━┩\n",
              "│ dense_1325 (\u001b[38;5;33mDense\u001b[0m)                   │ (\u001b[38;5;34m28\u001b[0m)                        │             \u001b[38;5;34m140\u001b[0m │\n",
              "├──────────────────────────────────────┼─────────────────────────────┼─────────────────┤\n",
              "│ dense_1330 (\u001b[38;5;33mDense\u001b[0m)                   │ (\u001b[38;5;34m69\u001b[0m)                        │           \u001b[38;5;34m2,001\u001b[0m │\n",
              "├──────────────────────────────────────┼─────────────────────────────┼─────────────────┤\n",
              "│ dense_1323 (\u001b[38;5;33mDense\u001b[0m)                   │ (\u001b[38;5;34m85\u001b[0m)                        │           \u001b[38;5;34m5,950\u001b[0m │\n",
              "├──────────────────────────────────────┼─────────────────────────────┼─────────────────┤\n",
              "│ dropout_29 (\u001b[38;5;33mDropout\u001b[0m)                 │ (\u001b[38;5;34m85\u001b[0m)                        │               \u001b[38;5;34m0\u001b[0m │\n",
              "├──────────────────────────────────────┼─────────────────────────────┼─────────────────┤\n",
              "│ dense_1330 (\u001b[38;5;33mDense\u001b[0m)                   │ (\u001b[38;5;34m69\u001b[0m)                        │           \u001b[38;5;34m5,934\u001b[0m │\n",
              "├──────────────────────────────────────┼─────────────────────────────┼─────────────────┤\n",
              "│ dropout_29 (\u001b[38;5;33mDropout\u001b[0m)                 │ (\u001b[38;5;34m69\u001b[0m)                        │               \u001b[38;5;34m0\u001b[0m │\n",
              "├──────────────────────────────────────┼─────────────────────────────┼─────────────────┤\n",
              "│ dense_1330 (\u001b[38;5;33mDense\u001b[0m)                   │ (\u001b[38;5;34m69\u001b[0m)                        │           \u001b[38;5;34m4,830\u001b[0m │\n",
              "├──────────────────────────────────────┼─────────────────────────────┼─────────────────┤\n",
              "│ dense_1417 (\u001b[38;5;33mDense\u001b[0m)                   │ (\u001b[38;5;34m3\u001b[0m)                         │             \u001b[38;5;34m210\u001b[0m │\n",
              "└──────────────────────────────────────┴─────────────────────────────┴─────────────────┘\n"
            ],
            "text/html": [
              "<pre style=\"white-space:pre;overflow-x:auto;line-height:normal;font-family:Menlo,'DejaVu Sans Mono',consolas,'Courier New',monospace\">┏━━━━━━━━━━━━━━━━━━━━━━━━━━━━━━━━━━━━━━┳━━━━━━━━━━━━━━━━━━━━━━━━━━━━━┳━━━━━━━━━━━━━━━━━┓\n",
              "┃<span style=\"font-weight: bold\"> Layer (type)                         </span>┃<span style=\"font-weight: bold\"> Output Shape                </span>┃<span style=\"font-weight: bold\">         Param # </span>┃\n",
              "┡━━━━━━━━━━━━━━━━━━━━━━━━━━━━━━━━━━━━━━╇━━━━━━━━━━━━━━━━━━━━━━━━━━━━━╇━━━━━━━━━━━━━━━━━┩\n",
              "│ dense_1325 (<span style=\"color: #0087ff; text-decoration-color: #0087ff\">Dense</span>)                   │ (<span style=\"color: #00af00; text-decoration-color: #00af00\">28</span>)                        │             <span style=\"color: #00af00; text-decoration-color: #00af00\">140</span> │\n",
              "├──────────────────────────────────────┼─────────────────────────────┼─────────────────┤\n",
              "│ dense_1330 (<span style=\"color: #0087ff; text-decoration-color: #0087ff\">Dense</span>)                   │ (<span style=\"color: #00af00; text-decoration-color: #00af00\">69</span>)                        │           <span style=\"color: #00af00; text-decoration-color: #00af00\">2,001</span> │\n",
              "├──────────────────────────────────────┼─────────────────────────────┼─────────────────┤\n",
              "│ dense_1323 (<span style=\"color: #0087ff; text-decoration-color: #0087ff\">Dense</span>)                   │ (<span style=\"color: #00af00; text-decoration-color: #00af00\">85</span>)                        │           <span style=\"color: #00af00; text-decoration-color: #00af00\">5,950</span> │\n",
              "├──────────────────────────────────────┼─────────────────────────────┼─────────────────┤\n",
              "│ dropout_29 (<span style=\"color: #0087ff; text-decoration-color: #0087ff\">Dropout</span>)                 │ (<span style=\"color: #00af00; text-decoration-color: #00af00\">85</span>)                        │               <span style=\"color: #00af00; text-decoration-color: #00af00\">0</span> │\n",
              "├──────────────────────────────────────┼─────────────────────────────┼─────────────────┤\n",
              "│ dense_1330 (<span style=\"color: #0087ff; text-decoration-color: #0087ff\">Dense</span>)                   │ (<span style=\"color: #00af00; text-decoration-color: #00af00\">69</span>)                        │           <span style=\"color: #00af00; text-decoration-color: #00af00\">5,934</span> │\n",
              "├──────────────────────────────────────┼─────────────────────────────┼─────────────────┤\n",
              "│ dropout_29 (<span style=\"color: #0087ff; text-decoration-color: #0087ff\">Dropout</span>)                 │ (<span style=\"color: #00af00; text-decoration-color: #00af00\">69</span>)                        │               <span style=\"color: #00af00; text-decoration-color: #00af00\">0</span> │\n",
              "├──────────────────────────────────────┼─────────────────────────────┼─────────────────┤\n",
              "│ dense_1330 (<span style=\"color: #0087ff; text-decoration-color: #0087ff\">Dense</span>)                   │ (<span style=\"color: #00af00; text-decoration-color: #00af00\">69</span>)                        │           <span style=\"color: #00af00; text-decoration-color: #00af00\">4,830</span> │\n",
              "├──────────────────────────────────────┼─────────────────────────────┼─────────────────┤\n",
              "│ dense_1417 (<span style=\"color: #0087ff; text-decoration-color: #0087ff\">Dense</span>)                   │ (<span style=\"color: #00af00; text-decoration-color: #00af00\">3</span>)                         │             <span style=\"color: #00af00; text-decoration-color: #00af00\">210</span> │\n",
              "└──────────────────────────────────────┴─────────────────────────────┴─────────────────┘\n",
              "</pre>\n"
            ]
          },
          "metadata": {}
        },
        {
          "output_type": "display_data",
          "data": {
            "text/plain": [
              "\u001b[1m Total params: \u001b[0m\u001b[38;5;34m19,065\u001b[0m (74.47 KB)\n"
            ],
            "text/html": [
              "<pre style=\"white-space:pre;overflow-x:auto;line-height:normal;font-family:Menlo,'DejaVu Sans Mono',consolas,'Courier New',monospace\"><span style=\"font-weight: bold\"> Total params: </span><span style=\"color: #00af00; text-decoration-color: #00af00\">19,065</span> (74.47 KB)\n",
              "</pre>\n"
            ]
          },
          "metadata": {}
        },
        {
          "output_type": "display_data",
          "data": {
            "text/plain": [
              "\u001b[1m Trainable params: \u001b[0m\u001b[38;5;34m19,065\u001b[0m (74.47 KB)\n"
            ],
            "text/html": [
              "<pre style=\"white-space:pre;overflow-x:auto;line-height:normal;font-family:Menlo,'DejaVu Sans Mono',consolas,'Courier New',monospace\"><span style=\"font-weight: bold\"> Trainable params: </span><span style=\"color: #00af00; text-decoration-color: #00af00\">19,065</span> (74.47 KB)\n",
              "</pre>\n"
            ]
          },
          "metadata": {}
        },
        {
          "output_type": "display_data",
          "data": {
            "text/plain": [
              "\u001b[1m Non-trainable params: \u001b[0m\u001b[38;5;34m0\u001b[0m (0.00 B)\n"
            ],
            "text/html": [
              "<pre style=\"white-space:pre;overflow-x:auto;line-height:normal;font-family:Menlo,'DejaVu Sans Mono',consolas,'Courier New',monospace\"><span style=\"font-weight: bold\"> Non-trainable params: </span><span style=\"color: #00af00; text-decoration-color: #00af00\">0</span> (0.00 B)\n",
              "</pre>\n"
            ]
          },
          "metadata": {}
        }
      ],
      "source": [
        "model = gp.best_solution\n",
        "model.build((4, ))\n",
        "model.summary()"
      ]
    },
    {
      "cell_type": "code",
      "execution_count": 114,
      "metadata": {
        "colab": {
          "base_uri": "https://localhost:8080/"
        },
        "id": "vlSJk4Z1WEv3",
        "outputId": "cb7d9c2f-7881-486a-8e98-73dec03853e6"
      },
      "outputs": [
        {
          "output_type": "stream",
          "name": "stdout",
          "text": [
            "linear\n",
            "tanh\n",
            "linear\n",
            "dropout(0.1907104756035115)\n",
            "tanh\n",
            "dropout(0.1907104756035115)\n",
            "linear\n"
          ]
        }
      ],
      "source": [
        "for layer in model.hidden_layers:\n",
        "    if layer.name.startswith('dense'):\n",
        "        print(layer.get_config()['activation'])\n",
        "    else:\n",
        "        print(f\"dropout({layer.get_config()['rate']})\")"
      ]
    },
    {
      "cell_type": "code",
      "source": [
        "model_iris = keras.Sequential(\n",
        "    [\n",
        "        keras.Input(shape=(4, )),\n",
        "        layers.Dense(28, activation='linear'),\n",
        "        layers.Dense(69, activation='tanh'),\n",
        "        layers.Dense(85, activation='linear'),\n",
        "        layers.Dropout(rate=0.1907104756035115),\n",
        "        layers.Dense(69, activation='tanh'),\n",
        "        layers.Dropout(rate=0.1907104756035115),\n",
        "        layers.Dense(69, activation='linear'),\n",
        "        layers.Dense(3, activation='softmax')\n",
        "    ]\n",
        ")\n",
        "model_iris.summary()"
      ],
      "metadata": {
        "colab": {
          "base_uri": "https://localhost:8080/",
          "height": 385
        },
        "id": "hwW6pnJGvM_R",
        "outputId": "b85da642-ce7d-4f93-ec67-e3cd1224ed6b"
      },
      "execution_count": 144,
      "outputs": [
        {
          "output_type": "display_data",
          "data": {
            "text/plain": [
              "\u001b[1mModel: \"sequential_5\"\u001b[0m\n"
            ],
            "text/html": [
              "<pre style=\"white-space:pre;overflow-x:auto;line-height:normal;font-family:Menlo,'DejaVu Sans Mono',consolas,'Courier New',monospace\"><span style=\"font-weight: bold\">Model: \"sequential_5\"</span>\n",
              "</pre>\n"
            ]
          },
          "metadata": {}
        },
        {
          "output_type": "display_data",
          "data": {
            "text/plain": [
              "┏━━━━━━━━━━━━━━━━━━━━━━━━━━━━━━━━━━━━━━┳━━━━━━━━━━━━━━━━━━━━━━━━━━━━━┳━━━━━━━━━━━━━━━━━┓\n",
              "┃\u001b[1m \u001b[0m\u001b[1mLayer (type)                        \u001b[0m\u001b[1m \u001b[0m┃\u001b[1m \u001b[0m\u001b[1mOutput Shape               \u001b[0m\u001b[1m \u001b[0m┃\u001b[1m \u001b[0m\u001b[1m        Param #\u001b[0m\u001b[1m \u001b[0m┃\n",
              "┡━━━━━━━━━━━━━━━━━━━━━━━━━━━━━━━━━━━━━━╇━━━━━━━━━━━━━━━━━━━━━━━━━━━━━╇━━━━━━━━━━━━━━━━━┩\n",
              "│ dense_1501 (\u001b[38;5;33mDense\u001b[0m)                   │ (\u001b[38;5;45mNone\u001b[0m, \u001b[38;5;34m28\u001b[0m)                  │             \u001b[38;5;34m140\u001b[0m │\n",
              "├──────────────────────────────────────┼─────────────────────────────┼─────────────────┤\n",
              "│ dense_1502 (\u001b[38;5;33mDense\u001b[0m)                   │ (\u001b[38;5;45mNone\u001b[0m, \u001b[38;5;34m69\u001b[0m)                  │           \u001b[38;5;34m2,001\u001b[0m │\n",
              "├──────────────────────────────────────┼─────────────────────────────┼─────────────────┤\n",
              "│ dense_1503 (\u001b[38;5;33mDense\u001b[0m)                   │ (\u001b[38;5;45mNone\u001b[0m, \u001b[38;5;34m85\u001b[0m)                  │           \u001b[38;5;34m5,950\u001b[0m │\n",
              "├──────────────────────────────────────┼─────────────────────────────┼─────────────────┤\n",
              "│ dropout_40 (\u001b[38;5;33mDropout\u001b[0m)                 │ (\u001b[38;5;45mNone\u001b[0m, \u001b[38;5;34m85\u001b[0m)                  │               \u001b[38;5;34m0\u001b[0m │\n",
              "├──────────────────────────────────────┼─────────────────────────────┼─────────────────┤\n",
              "│ dense_1504 (\u001b[38;5;33mDense\u001b[0m)                   │ (\u001b[38;5;45mNone\u001b[0m, \u001b[38;5;34m69\u001b[0m)                  │           \u001b[38;5;34m5,934\u001b[0m │\n",
              "├──────────────────────────────────────┼─────────────────────────────┼─────────────────┤\n",
              "│ dropout_41 (\u001b[38;5;33mDropout\u001b[0m)                 │ (\u001b[38;5;45mNone\u001b[0m, \u001b[38;5;34m69\u001b[0m)                  │               \u001b[38;5;34m0\u001b[0m │\n",
              "├──────────────────────────────────────┼─────────────────────────────┼─────────────────┤\n",
              "│ dense_1505 (\u001b[38;5;33mDense\u001b[0m)                   │ (\u001b[38;5;45mNone\u001b[0m, \u001b[38;5;34m69\u001b[0m)                  │           \u001b[38;5;34m4,830\u001b[0m │\n",
              "├──────────────────────────────────────┼─────────────────────────────┼─────────────────┤\n",
              "│ dense_1506 (\u001b[38;5;33mDense\u001b[0m)                   │ (\u001b[38;5;45mNone\u001b[0m, \u001b[38;5;34m3\u001b[0m)                   │             \u001b[38;5;34m210\u001b[0m │\n",
              "└──────────────────────────────────────┴─────────────────────────────┴─────────────────┘\n"
            ],
            "text/html": [
              "<pre style=\"white-space:pre;overflow-x:auto;line-height:normal;font-family:Menlo,'DejaVu Sans Mono',consolas,'Courier New',monospace\">┏━━━━━━━━━━━━━━━━━━━━━━━━━━━━━━━━━━━━━━┳━━━━━━━━━━━━━━━━━━━━━━━━━━━━━┳━━━━━━━━━━━━━━━━━┓\n",
              "┃<span style=\"font-weight: bold\"> Layer (type)                         </span>┃<span style=\"font-weight: bold\"> Output Shape                </span>┃<span style=\"font-weight: bold\">         Param # </span>┃\n",
              "┡━━━━━━━━━━━━━━━━━━━━━━━━━━━━━━━━━━━━━━╇━━━━━━━━━━━━━━━━━━━━━━━━━━━━━╇━━━━━━━━━━━━━━━━━┩\n",
              "│ dense_1501 (<span style=\"color: #0087ff; text-decoration-color: #0087ff\">Dense</span>)                   │ (<span style=\"color: #00d7ff; text-decoration-color: #00d7ff\">None</span>, <span style=\"color: #00af00; text-decoration-color: #00af00\">28</span>)                  │             <span style=\"color: #00af00; text-decoration-color: #00af00\">140</span> │\n",
              "├──────────────────────────────────────┼─────────────────────────────┼─────────────────┤\n",
              "│ dense_1502 (<span style=\"color: #0087ff; text-decoration-color: #0087ff\">Dense</span>)                   │ (<span style=\"color: #00d7ff; text-decoration-color: #00d7ff\">None</span>, <span style=\"color: #00af00; text-decoration-color: #00af00\">69</span>)                  │           <span style=\"color: #00af00; text-decoration-color: #00af00\">2,001</span> │\n",
              "├──────────────────────────────────────┼─────────────────────────────┼─────────────────┤\n",
              "│ dense_1503 (<span style=\"color: #0087ff; text-decoration-color: #0087ff\">Dense</span>)                   │ (<span style=\"color: #00d7ff; text-decoration-color: #00d7ff\">None</span>, <span style=\"color: #00af00; text-decoration-color: #00af00\">85</span>)                  │           <span style=\"color: #00af00; text-decoration-color: #00af00\">5,950</span> │\n",
              "├──────────────────────────────────────┼─────────────────────────────┼─────────────────┤\n",
              "│ dropout_40 (<span style=\"color: #0087ff; text-decoration-color: #0087ff\">Dropout</span>)                 │ (<span style=\"color: #00d7ff; text-decoration-color: #00d7ff\">None</span>, <span style=\"color: #00af00; text-decoration-color: #00af00\">85</span>)                  │               <span style=\"color: #00af00; text-decoration-color: #00af00\">0</span> │\n",
              "├──────────────────────────────────────┼─────────────────────────────┼─────────────────┤\n",
              "│ dense_1504 (<span style=\"color: #0087ff; text-decoration-color: #0087ff\">Dense</span>)                   │ (<span style=\"color: #00d7ff; text-decoration-color: #00d7ff\">None</span>, <span style=\"color: #00af00; text-decoration-color: #00af00\">69</span>)                  │           <span style=\"color: #00af00; text-decoration-color: #00af00\">5,934</span> │\n",
              "├──────────────────────────────────────┼─────────────────────────────┼─────────────────┤\n",
              "│ dropout_41 (<span style=\"color: #0087ff; text-decoration-color: #0087ff\">Dropout</span>)                 │ (<span style=\"color: #00d7ff; text-decoration-color: #00d7ff\">None</span>, <span style=\"color: #00af00; text-decoration-color: #00af00\">69</span>)                  │               <span style=\"color: #00af00; text-decoration-color: #00af00\">0</span> │\n",
              "├──────────────────────────────────────┼─────────────────────────────┼─────────────────┤\n",
              "│ dense_1505 (<span style=\"color: #0087ff; text-decoration-color: #0087ff\">Dense</span>)                   │ (<span style=\"color: #00d7ff; text-decoration-color: #00d7ff\">None</span>, <span style=\"color: #00af00; text-decoration-color: #00af00\">69</span>)                  │           <span style=\"color: #00af00; text-decoration-color: #00af00\">4,830</span> │\n",
              "├──────────────────────────────────────┼─────────────────────────────┼─────────────────┤\n",
              "│ dense_1506 (<span style=\"color: #0087ff; text-decoration-color: #0087ff\">Dense</span>)                   │ (<span style=\"color: #00d7ff; text-decoration-color: #00d7ff\">None</span>, <span style=\"color: #00af00; text-decoration-color: #00af00\">3</span>)                   │             <span style=\"color: #00af00; text-decoration-color: #00af00\">210</span> │\n",
              "└──────────────────────────────────────┴─────────────────────────────┴─────────────────┘\n",
              "</pre>\n"
            ]
          },
          "metadata": {}
        },
        {
          "output_type": "display_data",
          "data": {
            "text/plain": [
              "\u001b[1m Total params: \u001b[0m\u001b[38;5;34m19,065\u001b[0m (74.47 KB)\n"
            ],
            "text/html": [
              "<pre style=\"white-space:pre;overflow-x:auto;line-height:normal;font-family:Menlo,'DejaVu Sans Mono',consolas,'Courier New',monospace\"><span style=\"font-weight: bold\"> Total params: </span><span style=\"color: #00af00; text-decoration-color: #00af00\">19,065</span> (74.47 KB)\n",
              "</pre>\n"
            ]
          },
          "metadata": {}
        },
        {
          "output_type": "display_data",
          "data": {
            "text/plain": [
              "\u001b[1m Trainable params: \u001b[0m\u001b[38;5;34m19,065\u001b[0m (74.47 KB)\n"
            ],
            "text/html": [
              "<pre style=\"white-space:pre;overflow-x:auto;line-height:normal;font-family:Menlo,'DejaVu Sans Mono',consolas,'Courier New',monospace\"><span style=\"font-weight: bold\"> Trainable params: </span><span style=\"color: #00af00; text-decoration-color: #00af00\">19,065</span> (74.47 KB)\n",
              "</pre>\n"
            ]
          },
          "metadata": {}
        },
        {
          "output_type": "display_data",
          "data": {
            "text/plain": [
              "\u001b[1m Non-trainable params: \u001b[0m\u001b[38;5;34m0\u001b[0m (0.00 B)\n"
            ],
            "text/html": [
              "<pre style=\"white-space:pre;overflow-x:auto;line-height:normal;font-family:Menlo,'DejaVu Sans Mono',consolas,'Courier New',monospace\"><span style=\"font-weight: bold\"> Non-trainable params: </span><span style=\"color: #00af00; text-decoration-color: #00af00\">0</span> (0.00 B)\n",
              "</pre>\n"
            ]
          },
          "metadata": {}
        }
      ]
    },
    {
      "cell_type": "code",
      "source": [
        "batch_size = 128\n",
        "epochs = 20\n",
        "\n",
        "model_iris.compile(loss='categorical_crossentropy', optimizer='adam', metrics=['accuracy'])\n",
        "model_iris.fit(x_train, y_train, batch_size=batch_size, epochs=epochs, validation_split=.1)"
      ],
      "metadata": {
        "colab": {
          "base_uri": "https://localhost:8080/"
        },
        "id": "4nt_wMFzv169",
        "outputId": "9fbbdc98-49a8-469e-bed5-e8048f45f0cb"
      },
      "execution_count": 148,
      "outputs": [
        {
          "output_type": "stream",
          "name": "stdout",
          "text": [
            "Epoch 1/20\n",
            "\u001b[1m1/1\u001b[0m \u001b[32m━━━━━━━━━━━━━━━━━━━━\u001b[0m\u001b[37m\u001b[0m \u001b[1m3s\u001b[0m 3s/step - accuracy: 0.9362 - loss: 0.1273 - val_accuracy: 0.9091 - val_loss: 0.1880\n",
            "Epoch 2/20\n",
            "\u001b[1m1/1\u001b[0m \u001b[32m━━━━━━━━━━━━━━━━━━━━\u001b[0m\u001b[37m\u001b[0m \u001b[1m0s\u001b[0m 366ms/step - accuracy: 0.8511 - loss: 0.3578 - val_accuracy: 1.0000 - val_loss: 0.0294\n",
            "Epoch 3/20\n",
            "\u001b[1m1/1\u001b[0m \u001b[32m━━━━━━━━━━━━━━━━━━━━\u001b[0m\u001b[37m\u001b[0m \u001b[1m0s\u001b[0m 82ms/step - accuracy: 0.9468 - loss: 0.1496 - val_accuracy: 1.0000 - val_loss: 0.0167\n",
            "Epoch 4/20\n",
            "\u001b[1m1/1\u001b[0m \u001b[32m━━━━━━━━━━━━━━━━━━━━\u001b[0m\u001b[37m\u001b[0m \u001b[1m0s\u001b[0m 81ms/step - accuracy: 0.9149 - loss: 0.1582 - val_accuracy: 1.0000 - val_loss: 0.0229\n",
            "Epoch 5/20\n",
            "\u001b[1m1/1\u001b[0m \u001b[32m━━━━━━━━━━━━━━━━━━━━\u001b[0m\u001b[37m\u001b[0m \u001b[1m0s\u001b[0m 77ms/step - accuracy: 0.8936 - loss: 0.2729 - val_accuracy: 1.0000 - val_loss: 0.0159\n",
            "Epoch 6/20\n",
            "\u001b[1m1/1\u001b[0m \u001b[32m━━━━━━━━━━━━━━━━━━━━\u001b[0m\u001b[37m\u001b[0m \u001b[1m0s\u001b[0m 76ms/step - accuracy: 0.8830 - loss: 0.1881 - val_accuracy: 1.0000 - val_loss: 0.0134\n",
            "Epoch 7/20\n",
            "\u001b[1m1/1\u001b[0m \u001b[32m━━━━━━━━━━━━━━━━━━━━\u001b[0m\u001b[37m\u001b[0m \u001b[1m0s\u001b[0m 142ms/step - accuracy: 0.9362 - loss: 0.1020 - val_accuracy: 1.0000 - val_loss: 0.0272\n",
            "Epoch 8/20\n",
            "\u001b[1m1/1\u001b[0m \u001b[32m━━━━━━━━━━━━━━━━━━━━\u001b[0m\u001b[37m\u001b[0m \u001b[1m0s\u001b[0m 147ms/step - accuracy: 0.9468 - loss: 0.1223 - val_accuracy: 1.0000 - val_loss: 0.0475\n",
            "Epoch 9/20\n",
            "\u001b[1m1/1\u001b[0m \u001b[32m━━━━━━━━━━━━━━━━━━━━\u001b[0m\u001b[37m\u001b[0m \u001b[1m0s\u001b[0m 130ms/step - accuracy: 0.9255 - loss: 0.1584 - val_accuracy: 1.0000 - val_loss: 0.0461\n",
            "Epoch 10/20\n",
            "\u001b[1m1/1\u001b[0m \u001b[32m━━━━━━━━━━━━━━━━━━━━\u001b[0m\u001b[37m\u001b[0m \u001b[1m0s\u001b[0m 76ms/step - accuracy: 0.9362 - loss: 0.1736 - val_accuracy: 1.0000 - val_loss: 0.0276\n",
            "Epoch 11/20\n",
            "\u001b[1m1/1\u001b[0m \u001b[32m━━━━━━━━━━━━━━━━━━━━\u001b[0m\u001b[37m\u001b[0m \u001b[1m0s\u001b[0m 74ms/step - accuracy: 0.9468 - loss: 0.1573 - val_accuracy: 1.0000 - val_loss: 0.0130\n",
            "Epoch 12/20\n",
            "\u001b[1m1/1\u001b[0m \u001b[32m━━━━━━━━━━━━━━━━━━━━\u001b[0m\u001b[37m\u001b[0m \u001b[1m0s\u001b[0m 79ms/step - accuracy: 0.9574 - loss: 0.0812 - val_accuracy: 1.0000 - val_loss: 0.0089\n",
            "Epoch 13/20\n",
            "\u001b[1m1/1\u001b[0m \u001b[32m━━━━━━━━━━━━━━━━━━━━\u001b[0m\u001b[37m\u001b[0m \u001b[1m0s\u001b[0m 82ms/step - accuracy: 0.9681 - loss: 0.0921 - val_accuracy: 1.0000 - val_loss: 0.0089\n",
            "Epoch 14/20\n",
            "\u001b[1m1/1\u001b[0m \u001b[32m━━━━━━━━━━━━━━━━━━━━\u001b[0m\u001b[37m\u001b[0m \u001b[1m0s\u001b[0m 134ms/step - accuracy: 0.9255 - loss: 0.1474 - val_accuracy: 1.0000 - val_loss: 0.0089\n",
            "Epoch 15/20\n",
            "\u001b[1m1/1\u001b[0m \u001b[32m━━━━━━━━━━━━━━━━━━━━\u001b[0m\u001b[37m\u001b[0m \u001b[1m0s\u001b[0m 73ms/step - accuracy: 0.9362 - loss: 0.1146 - val_accuracy: 1.0000 - val_loss: 0.0085\n",
            "Epoch 16/20\n",
            "\u001b[1m1/1\u001b[0m \u001b[32m━━━━━━━━━━━━━━━━━━━━\u001b[0m\u001b[37m\u001b[0m \u001b[1m0s\u001b[0m 76ms/step - accuracy: 0.9468 - loss: 0.1220 - val_accuracy: 1.0000 - val_loss: 0.0093\n",
            "Epoch 17/20\n",
            "\u001b[1m1/1\u001b[0m \u001b[32m━━━━━━━━━━━━━━━━━━━━\u001b[0m\u001b[37m\u001b[0m \u001b[1m0s\u001b[0m 143ms/step - accuracy: 0.9681 - loss: 0.0997 - val_accuracy: 1.0000 - val_loss: 0.0131\n",
            "Epoch 18/20\n",
            "\u001b[1m1/1\u001b[0m \u001b[32m━━━━━━━━━━━━━━━━━━━━\u001b[0m\u001b[37m\u001b[0m \u001b[1m0s\u001b[0m 81ms/step - accuracy: 0.9574 - loss: 0.1245 - val_accuracy: 1.0000 - val_loss: 0.0184\n",
            "Epoch 19/20\n",
            "\u001b[1m1/1\u001b[0m \u001b[32m━━━━━━━━━━━━━━━━━━━━\u001b[0m\u001b[37m\u001b[0m \u001b[1m0s\u001b[0m 136ms/step - accuracy: 0.9468 - loss: 0.1057 - val_accuracy: 1.0000 - val_loss: 0.0207\n",
            "Epoch 20/20\n",
            "\u001b[1m1/1\u001b[0m \u001b[32m━━━━━━━━━━━━━━━━━━━━\u001b[0m\u001b[37m\u001b[0m \u001b[1m0s\u001b[0m 78ms/step - accuracy: 0.9681 - loss: 0.1385 - val_accuracy: 1.0000 - val_loss: 0.0167\n"
          ]
        },
        {
          "output_type": "execute_result",
          "data": {
            "text/plain": [
              "<keras.src.callbacks.history.History at 0x7c58a6b76b90>"
            ]
          },
          "metadata": {},
          "execution_count": 148
        }
      ]
    },
    {
      "cell_type": "code",
      "source": [
        "score = model_iris.evaluate(x_test, y_test, verbose=0)\n",
        "print(\"Test loss:\", score[0])\n",
        "print(\"Test accuracy:\", score[1])"
      ],
      "metadata": {
        "colab": {
          "base_uri": "https://localhost:8080/"
        },
        "id": "WXHm1DNawwq4",
        "outputId": "ce5f5331-b995-4cfe-ae97-0ccf65d43d51"
      },
      "execution_count": 149,
      "outputs": [
        {
          "output_type": "stream",
          "name": "stdout",
          "text": [
            "Test loss: 0.009018908254802227\n",
            "Test accuracy: 1.0\n"
          ]
        }
      ]
    },
    {
      "cell_type": "markdown",
      "metadata": {
        "id": "8Gg2C_rVb69H"
      },
      "source": [
        "## Keras patterns: Fashion-MNIST dataset"
      ]
    },
    {
      "cell_type": "code",
      "execution_count": 117,
      "metadata": {
        "id": "CBAPM60wb5yD"
      },
      "outputs": [],
      "source": [
        "# Model / data parameters\n",
        "num_classes = 10\n",
        "input_shape = (784,)\n",
        "batch_size = 128\n",
        "epochs = 20\n",
        "\n",
        "\n",
        "(x_train, y_train), (x_test, y_test) = keras.datasets.fashion_mnist.load_data()\n",
        "\n",
        "x_train = x_train.reshape(60000, 784)\n",
        "x_test = x_test.reshape(10000, 784)\n",
        "x_train = x_train.astype('float32')\n",
        "x_test = x_test.astype('float32')\n",
        "x_train /= 255\n",
        "x_test /= 255\n",
        "\n",
        "y_train = keras.utils.to_categorical(y_train, num_classes)\n",
        "y_test = keras.utils.to_categorical(y_test, num_classes)"
      ]
    },
    {
      "cell_type": "markdown",
      "metadata": {
        "id": "fsrqqJpRcLp7"
      },
      "source": [
        "<h2> Keras Sequential Layers </h2>"
      ]
    },
    {
      "cell_type": "code",
      "execution_count": 136,
      "metadata": {
        "colab": {
          "base_uri": "https://localhost:8080/",
          "height": 289
        },
        "id": "lyQLFGCQcJl_",
        "outputId": "0df36525-9aaf-48af-c945-e83d1523c210"
      },
      "outputs": [
        {
          "output_type": "display_data",
          "data": {
            "text/plain": [
              "\u001b[1mModel: \"sequential_2\"\u001b[0m\n"
            ],
            "text/html": [
              "<pre style=\"white-space:pre;overflow-x:auto;line-height:normal;font-family:Menlo,'DejaVu Sans Mono',consolas,'Courier New',monospace\"><span style=\"font-weight: bold\">Model: \"sequential_2\"</span>\n",
              "</pre>\n"
            ]
          },
          "metadata": {}
        },
        {
          "output_type": "display_data",
          "data": {
            "text/plain": [
              "┏━━━━━━━━━━━━━━━━━━━━━━━━━━━━━━━━━━━━━━┳━━━━━━━━━━━━━━━━━━━━━━━━━━━━━┳━━━━━━━━━━━━━━━━━┓\n",
              "┃\u001b[1m \u001b[0m\u001b[1mLayer (type)                        \u001b[0m\u001b[1m \u001b[0m┃\u001b[1m \u001b[0m\u001b[1mOutput Shape               \u001b[0m\u001b[1m \u001b[0m┃\u001b[1m \u001b[0m\u001b[1m        Param #\u001b[0m\u001b[1m \u001b[0m┃\n",
              "┡━━━━━━━━━━━━━━━━━━━━━━━━━━━━━━━━━━━━━━╇━━━━━━━━━━━━━━━━━━━━━━━━━━━━━╇━━━━━━━━━━━━━━━━━┩\n",
              "│ dense_1484 (\u001b[38;5;33mDense\u001b[0m)                   │ (\u001b[38;5;45mNone\u001b[0m, \u001b[38;5;34m127\u001b[0m)                 │          \u001b[38;5;34m99,695\u001b[0m │\n",
              "├──────────────────────────────────────┼─────────────────────────────┼─────────────────┤\n",
              "│ dense_1485 (\u001b[38;5;33mDense\u001b[0m)                   │ (\u001b[38;5;45mNone\u001b[0m, \u001b[38;5;34m127\u001b[0m)                 │          \u001b[38;5;34m16,256\u001b[0m │\n",
              "├──────────────────────────────────────┼─────────────────────────────┼─────────────────┤\n",
              "│ dense_1486 (\u001b[38;5;33mDense\u001b[0m)                   │ (\u001b[38;5;45mNone\u001b[0m, \u001b[38;5;34m127\u001b[0m)                 │          \u001b[38;5;34m16,256\u001b[0m │\n",
              "├──────────────────────────────────────┼─────────────────────────────┼─────────────────┤\n",
              "│ dense_1487 (\u001b[38;5;33mDense\u001b[0m)                   │ (\u001b[38;5;45mNone\u001b[0m, \u001b[38;5;34m44\u001b[0m)                  │           \u001b[38;5;34m5,632\u001b[0m │\n",
              "├──────────────────────────────────────┼─────────────────────────────┼─────────────────┤\n",
              "│ dense_1488 (\u001b[38;5;33mDense\u001b[0m)                   │ (\u001b[38;5;45mNone\u001b[0m, \u001b[38;5;34m10\u001b[0m)                  │             \u001b[38;5;34m450\u001b[0m │\n",
              "└──────────────────────────────────────┴─────────────────────────────┴─────────────────┘\n"
            ],
            "text/html": [
              "<pre style=\"white-space:pre;overflow-x:auto;line-height:normal;font-family:Menlo,'DejaVu Sans Mono',consolas,'Courier New',monospace\">┏━━━━━━━━━━━━━━━━━━━━━━━━━━━━━━━━━━━━━━┳━━━━━━━━━━━━━━━━━━━━━━━━━━━━━┳━━━━━━━━━━━━━━━━━┓\n",
              "┃<span style=\"font-weight: bold\"> Layer (type)                         </span>┃<span style=\"font-weight: bold\"> Output Shape                </span>┃<span style=\"font-weight: bold\">         Param # </span>┃\n",
              "┡━━━━━━━━━━━━━━━━━━━━━━━━━━━━━━━━━━━━━━╇━━━━━━━━━━━━━━━━━━━━━━━━━━━━━╇━━━━━━━━━━━━━━━━━┩\n",
              "│ dense_1484 (<span style=\"color: #0087ff; text-decoration-color: #0087ff\">Dense</span>)                   │ (<span style=\"color: #00d7ff; text-decoration-color: #00d7ff\">None</span>, <span style=\"color: #00af00; text-decoration-color: #00af00\">127</span>)                 │          <span style=\"color: #00af00; text-decoration-color: #00af00\">99,695</span> │\n",
              "├──────────────────────────────────────┼─────────────────────────────┼─────────────────┤\n",
              "│ dense_1485 (<span style=\"color: #0087ff; text-decoration-color: #0087ff\">Dense</span>)                   │ (<span style=\"color: #00d7ff; text-decoration-color: #00d7ff\">None</span>, <span style=\"color: #00af00; text-decoration-color: #00af00\">127</span>)                 │          <span style=\"color: #00af00; text-decoration-color: #00af00\">16,256</span> │\n",
              "├──────────────────────────────────────┼─────────────────────────────┼─────────────────┤\n",
              "│ dense_1486 (<span style=\"color: #0087ff; text-decoration-color: #0087ff\">Dense</span>)                   │ (<span style=\"color: #00d7ff; text-decoration-color: #00d7ff\">None</span>, <span style=\"color: #00af00; text-decoration-color: #00af00\">127</span>)                 │          <span style=\"color: #00af00; text-decoration-color: #00af00\">16,256</span> │\n",
              "├──────────────────────────────────────┼─────────────────────────────┼─────────────────┤\n",
              "│ dense_1487 (<span style=\"color: #0087ff; text-decoration-color: #0087ff\">Dense</span>)                   │ (<span style=\"color: #00d7ff; text-decoration-color: #00d7ff\">None</span>, <span style=\"color: #00af00; text-decoration-color: #00af00\">44</span>)                  │           <span style=\"color: #00af00; text-decoration-color: #00af00\">5,632</span> │\n",
              "├──────────────────────────────────────┼─────────────────────────────┼─────────────────┤\n",
              "│ dense_1488 (<span style=\"color: #0087ff; text-decoration-color: #0087ff\">Dense</span>)                   │ (<span style=\"color: #00d7ff; text-decoration-color: #00d7ff\">None</span>, <span style=\"color: #00af00; text-decoration-color: #00af00\">10</span>)                  │             <span style=\"color: #00af00; text-decoration-color: #00af00\">450</span> │\n",
              "└──────────────────────────────────────┴─────────────────────────────┴─────────────────┘\n",
              "</pre>\n"
            ]
          },
          "metadata": {}
        },
        {
          "output_type": "display_data",
          "data": {
            "text/plain": [
              "\u001b[1m Total params: \u001b[0m\u001b[38;5;34m138,289\u001b[0m (540.19 KB)\n"
            ],
            "text/html": [
              "<pre style=\"white-space:pre;overflow-x:auto;line-height:normal;font-family:Menlo,'DejaVu Sans Mono',consolas,'Courier New',monospace\"><span style=\"font-weight: bold\"> Total params: </span><span style=\"color: #00af00; text-decoration-color: #00af00\">138,289</span> (540.19 KB)\n",
              "</pre>\n"
            ]
          },
          "metadata": {}
        },
        {
          "output_type": "display_data",
          "data": {
            "text/plain": [
              "\u001b[1m Trainable params: \u001b[0m\u001b[38;5;34m138,289\u001b[0m (540.19 KB)\n"
            ],
            "text/html": [
              "<pre style=\"white-space:pre;overflow-x:auto;line-height:normal;font-family:Menlo,'DejaVu Sans Mono',consolas,'Courier New',monospace\"><span style=\"font-weight: bold\"> Trainable params: </span><span style=\"color: #00af00; text-decoration-color: #00af00\">138,289</span> (540.19 KB)\n",
              "</pre>\n"
            ]
          },
          "metadata": {}
        },
        {
          "output_type": "display_data",
          "data": {
            "text/plain": [
              "\u001b[1m Non-trainable params: \u001b[0m\u001b[38;5;34m0\u001b[0m (0.00 B)\n"
            ],
            "text/html": [
              "<pre style=\"white-space:pre;overflow-x:auto;line-height:normal;font-family:Menlo,'DejaVu Sans Mono',consolas,'Courier New',monospace\"><span style=\"font-weight: bold\"> Non-trainable params: </span><span style=\"color: #00af00; text-decoration-color: #00af00\">0</span> (0.00 B)\n",
              "</pre>\n"
            ]
          },
          "metadata": {}
        }
      ],
      "source": [
        "model_sequential = keras.Sequential(\n",
        "    [\n",
        "        keras.Input(shape=input_shape),\n",
        "        layers.Dense(127, activation='tanh'),\n",
        "        layers.Dense(127, activation='relu'),\n",
        "        layers.Dense(127, activation='relu'),\n",
        "        layers.Dense(44, activation='leaky_relu'),\n",
        "        layers.Dense(num_classes, activation='softmax')\n",
        "    ]\n",
        ")\n",
        "model_sequential.summary()"
      ]
    },
    {
      "cell_type": "code",
      "execution_count": 137,
      "metadata": {
        "id": "xAaq_a5AcbpG",
        "colab": {
          "base_uri": "https://localhost:8080/"
        },
        "outputId": "5f42ea82-4301-4f6d-9d37-5a14e3ad9b92"
      },
      "outputs": [
        {
          "output_type": "stream",
          "name": "stdout",
          "text": [
            "Epoch 1/20\n",
            "\u001b[1m422/422\u001b[0m \u001b[32m━━━━━━━━━━━━━━━━━━━━\u001b[0m\u001b[37m\u001b[0m \u001b[1m5s\u001b[0m 9ms/step - accuracy: 0.7340 - loss: 0.7467 - val_accuracy: 0.8442 - val_loss: 0.4303\n",
            "Epoch 2/20\n",
            "\u001b[1m422/422\u001b[0m \u001b[32m━━━━━━━━━━━━━━━━━━━━\u001b[0m\u001b[37m\u001b[0m \u001b[1m4s\u001b[0m 6ms/step - accuracy: 0.8586 - loss: 0.3884 - val_accuracy: 0.8650 - val_loss: 0.3674\n",
            "Epoch 3/20\n",
            "\u001b[1m422/422\u001b[0m \u001b[32m━━━━━━━━━━━━━━━━━━━━\u001b[0m\u001b[37m\u001b[0m \u001b[1m2s\u001b[0m 6ms/step - accuracy: 0.8769 - loss: 0.3382 - val_accuracy: 0.8765 - val_loss: 0.3377\n",
            "Epoch 4/20\n",
            "\u001b[1m422/422\u001b[0m \u001b[32m━━━━━━━━━━━━━━━━━━━━\u001b[0m\u001b[37m\u001b[0m \u001b[1m2s\u001b[0m 6ms/step - accuracy: 0.8857 - loss: 0.3101 - val_accuracy: 0.8773 - val_loss: 0.3298\n",
            "Epoch 5/20\n",
            "\u001b[1m422/422\u001b[0m \u001b[32m━━━━━━━━━━━━━━━━━━━━\u001b[0m\u001b[37m\u001b[0m \u001b[1m4s\u001b[0m 8ms/step - accuracy: 0.8933 - loss: 0.2864 - val_accuracy: 0.8767 - val_loss: 0.3290\n",
            "Epoch 6/20\n",
            "\u001b[1m422/422\u001b[0m \u001b[32m━━━━━━━━━━━━━━━━━━━━\u001b[0m\u001b[37m\u001b[0m \u001b[1m2s\u001b[0m 6ms/step - accuracy: 0.8959 - loss: 0.2830 - val_accuracy: 0.8790 - val_loss: 0.3340\n",
            "Epoch 7/20\n",
            "\u001b[1m422/422\u001b[0m \u001b[32m━━━━━━━━━━━━━━━━━━━━\u001b[0m\u001b[37m\u001b[0m \u001b[1m2s\u001b[0m 5ms/step - accuracy: 0.9005 - loss: 0.2629 - val_accuracy: 0.8872 - val_loss: 0.3174\n",
            "Epoch 8/20\n",
            "\u001b[1m422/422\u001b[0m \u001b[32m━━━━━━━━━━━━━━━━━━━━\u001b[0m\u001b[37m\u001b[0m \u001b[1m3s\u001b[0m 6ms/step - accuracy: 0.9024 - loss: 0.2590 - val_accuracy: 0.8807 - val_loss: 0.3442\n",
            "Epoch 9/20\n",
            "\u001b[1m422/422\u001b[0m \u001b[32m━━━━━━━━━━━━━━━━━━━━\u001b[0m\u001b[37m\u001b[0m \u001b[1m3s\u001b[0m 6ms/step - accuracy: 0.9086 - loss: 0.2441 - val_accuracy: 0.8847 - val_loss: 0.3115\n",
            "Epoch 10/20\n",
            "\u001b[1m422/422\u001b[0m \u001b[32m━━━━━━━━━━━━━━━━━━━━\u001b[0m\u001b[37m\u001b[0m \u001b[1m3s\u001b[0m 7ms/step - accuracy: 0.9108 - loss: 0.2347 - val_accuracy: 0.8887 - val_loss: 0.3100\n",
            "Epoch 11/20\n",
            "\u001b[1m422/422\u001b[0m \u001b[32m━━━━━━━━━━━━━━━━━━━━\u001b[0m\u001b[37m\u001b[0m \u001b[1m3s\u001b[0m 6ms/step - accuracy: 0.9136 - loss: 0.2255 - val_accuracy: 0.8837 - val_loss: 0.3334\n",
            "Epoch 12/20\n",
            "\u001b[1m422/422\u001b[0m \u001b[32m━━━━━━━━━━━━━━━━━━━━\u001b[0m\u001b[37m\u001b[0m \u001b[1m5s\u001b[0m 6ms/step - accuracy: 0.9171 - loss: 0.2187 - val_accuracy: 0.8775 - val_loss: 0.3411\n",
            "Epoch 13/20\n",
            "\u001b[1m422/422\u001b[0m \u001b[32m━━━━━━━━━━━━━━━━━━━━\u001b[0m\u001b[37m\u001b[0m \u001b[1m4s\u001b[0m 8ms/step - accuracy: 0.9180 - loss: 0.2159 - val_accuracy: 0.8883 - val_loss: 0.3175\n",
            "Epoch 14/20\n",
            "\u001b[1m422/422\u001b[0m \u001b[32m━━━━━━━━━━━━━━━━━━━━\u001b[0m\u001b[37m\u001b[0m \u001b[1m2s\u001b[0m 6ms/step - accuracy: 0.9236 - loss: 0.2033 - val_accuracy: 0.8788 - val_loss: 0.3459\n",
            "Epoch 15/20\n",
            "\u001b[1m422/422\u001b[0m \u001b[32m━━━━━━━━━━━━━━━━━━━━\u001b[0m\u001b[37m\u001b[0m \u001b[1m2s\u001b[0m 6ms/step - accuracy: 0.9252 - loss: 0.1970 - val_accuracy: 0.8910 - val_loss: 0.3272\n",
            "Epoch 16/20\n",
            "\u001b[1m422/422\u001b[0m \u001b[32m━━━━━━━━━━━━━━━━━━━━\u001b[0m\u001b[37m\u001b[0m \u001b[1m3s\u001b[0m 6ms/step - accuracy: 0.9283 - loss: 0.1901 - val_accuracy: 0.8843 - val_loss: 0.3508\n",
            "Epoch 17/20\n",
            "\u001b[1m422/422\u001b[0m \u001b[32m━━━━━━━━━━━━━━━━━━━━\u001b[0m\u001b[37m\u001b[0m \u001b[1m3s\u001b[0m 6ms/step - accuracy: 0.9281 - loss: 0.1879 - val_accuracy: 0.8905 - val_loss: 0.3543\n",
            "Epoch 18/20\n",
            "\u001b[1m422/422\u001b[0m \u001b[32m━━━━━━━━━━━━━━━━━━━━\u001b[0m\u001b[37m\u001b[0m \u001b[1m3s\u001b[0m 8ms/step - accuracy: 0.9306 - loss: 0.1820 - val_accuracy: 0.8907 - val_loss: 0.3337\n",
            "Epoch 19/20\n",
            "\u001b[1m422/422\u001b[0m \u001b[32m━━━━━━━━━━━━━━━━━━━━\u001b[0m\u001b[37m\u001b[0m \u001b[1m4s\u001b[0m 5ms/step - accuracy: 0.9327 - loss: 0.1738 - val_accuracy: 0.8938 - val_loss: 0.3303\n",
            "Epoch 20/20\n",
            "\u001b[1m422/422\u001b[0m \u001b[32m━━━━━━━━━━━━━━━━━━━━\u001b[0m\u001b[37m\u001b[0m \u001b[1m2s\u001b[0m 6ms/step - accuracy: 0.9378 - loss: 0.1617 - val_accuracy: 0.8935 - val_loss: 0.3314\n"
          ]
        },
        {
          "output_type": "execute_result",
          "data": {
            "text/plain": [
              "<keras.src.callbacks.history.History at 0x7c58e99330d0>"
            ]
          },
          "metadata": {},
          "execution_count": 137
        }
      ],
      "source": [
        "model_sequential.compile(loss='categorical_crossentropy', optimizer='adam', metrics=['accuracy'])\n",
        "model_sequential.fit(x_train, y_train, batch_size=batch_size, epochs=epochs, validation_split=.1)"
      ]
    },
    {
      "cell_type": "code",
      "execution_count": 138,
      "metadata": {
        "colab": {
          "base_uri": "https://localhost:8080/"
        },
        "id": "5pshaUe3c2m0",
        "outputId": "e43917e1-4e7b-40aa-91e9-7accb8006f6a"
      },
      "outputs": [
        {
          "output_type": "stream",
          "name": "stdout",
          "text": [
            "Test loss: 0.33963942527770996\n",
            "Test accuracy: 0.8892999887466431\n"
          ]
        }
      ],
      "source": [
        "score = model_sequential.evaluate(x_test, y_test, verbose=0)\n",
        "print(\"Test loss:\", score[0])\n",
        "print(\"Test accuracy:\", score[1])"
      ]
    },
    {
      "cell_type": "markdown",
      "metadata": {
        "id": "QxGYFpjOdI0p"
      },
      "source": [
        "<h2> Python Functions Implementation </h2>"
      ]
    },
    {
      "cell_type": "code",
      "execution_count": 123,
      "metadata": {
        "colab": {
          "base_uri": "https://localhost:8080/",
          "height": 321
        },
        "id": "hSm_BF4kdNK-",
        "outputId": "1880d5a3-e008-4e16-d91b-937eac99cc03"
      },
      "outputs": [
        {
          "output_type": "display_data",
          "data": {
            "text/plain": [
              "\u001b[1mModel: \"functional_1\"\u001b[0m\n"
            ],
            "text/html": [
              "<pre style=\"white-space:pre;overflow-x:auto;line-height:normal;font-family:Menlo,'DejaVu Sans Mono',consolas,'Courier New',monospace\"><span style=\"font-weight: bold\">Model: \"functional_1\"</span>\n",
              "</pre>\n"
            ]
          },
          "metadata": {}
        },
        {
          "output_type": "display_data",
          "data": {
            "text/plain": [
              "┏━━━━━━━━━━━━━━━━━━━━━━━━━━━━━━━━━━━━━━┳━━━━━━━━━━━━━━━━━━━━━━━━━━━━━┳━━━━━━━━━━━━━━━━━┓\n",
              "┃\u001b[1m \u001b[0m\u001b[1mLayer (type)                        \u001b[0m\u001b[1m \u001b[0m┃\u001b[1m \u001b[0m\u001b[1mOutput Shape               \u001b[0m\u001b[1m \u001b[0m┃\u001b[1m \u001b[0m\u001b[1m        Param #\u001b[0m\u001b[1m \u001b[0m┃\n",
              "┡━━━━━━━━━━━━━━━━━━━━━━━━━━━━━━━━━━━━━━╇━━━━━━━━━━━━━━━━━━━━━━━━━━━━━╇━━━━━━━━━━━━━━━━━┩\n",
              "│ input_layer_2 (\u001b[38;5;33mInputLayer\u001b[0m)           │ (\u001b[38;5;45mNone\u001b[0m, \u001b[38;5;34m784\u001b[0m)                 │               \u001b[38;5;34m0\u001b[0m │\n",
              "├──────────────────────────────────────┼─────────────────────────────┼─────────────────┤\n",
              "│ dense_1456 (\u001b[38;5;33mDense\u001b[0m)                   │ (\u001b[38;5;45mNone\u001b[0m, \u001b[38;5;34m127\u001b[0m)                 │          \u001b[38;5;34m99,695\u001b[0m │\n",
              "├──────────────────────────────────────┼─────────────────────────────┼─────────────────┤\n",
              "│ dense_1457 (\u001b[38;5;33mDense\u001b[0m)                   │ (\u001b[38;5;45mNone\u001b[0m, \u001b[38;5;34m127\u001b[0m)                 │          \u001b[38;5;34m16,256\u001b[0m │\n",
              "├──────────────────────────────────────┼─────────────────────────────┼─────────────────┤\n",
              "│ dense_1458 (\u001b[38;5;33mDense\u001b[0m)                   │ (\u001b[38;5;45mNone\u001b[0m, \u001b[38;5;34m127\u001b[0m)                 │          \u001b[38;5;34m16,256\u001b[0m │\n",
              "├──────────────────────────────────────┼─────────────────────────────┼─────────────────┤\n",
              "│ dense_1459 (\u001b[38;5;33mDense\u001b[0m)                   │ (\u001b[38;5;45mNone\u001b[0m, \u001b[38;5;34m44\u001b[0m)                  │           \u001b[38;5;34m5,632\u001b[0m │\n",
              "├──────────────────────────────────────┼─────────────────────────────┼─────────────────┤\n",
              "│ dense_1460 (\u001b[38;5;33mDense\u001b[0m)                   │ (\u001b[38;5;45mNone\u001b[0m, \u001b[38;5;34m10\u001b[0m)                  │             \u001b[38;5;34m450\u001b[0m │\n",
              "└──────────────────────────────────────┴─────────────────────────────┴─────────────────┘\n"
            ],
            "text/html": [
              "<pre style=\"white-space:pre;overflow-x:auto;line-height:normal;font-family:Menlo,'DejaVu Sans Mono',consolas,'Courier New',monospace\">┏━━━━━━━━━━━━━━━━━━━━━━━━━━━━━━━━━━━━━━┳━━━━━━━━━━━━━━━━━━━━━━━━━━━━━┳━━━━━━━━━━━━━━━━━┓\n",
              "┃<span style=\"font-weight: bold\"> Layer (type)                         </span>┃<span style=\"font-weight: bold\"> Output Shape                </span>┃<span style=\"font-weight: bold\">         Param # </span>┃\n",
              "┡━━━━━━━━━━━━━━━━━━━━━━━━━━━━━━━━━━━━━━╇━━━━━━━━━━━━━━━━━━━━━━━━━━━━━╇━━━━━━━━━━━━━━━━━┩\n",
              "│ input_layer_2 (<span style=\"color: #0087ff; text-decoration-color: #0087ff\">InputLayer</span>)           │ (<span style=\"color: #00d7ff; text-decoration-color: #00d7ff\">None</span>, <span style=\"color: #00af00; text-decoration-color: #00af00\">784</span>)                 │               <span style=\"color: #00af00; text-decoration-color: #00af00\">0</span> │\n",
              "├──────────────────────────────────────┼─────────────────────────────┼─────────────────┤\n",
              "│ dense_1456 (<span style=\"color: #0087ff; text-decoration-color: #0087ff\">Dense</span>)                   │ (<span style=\"color: #00d7ff; text-decoration-color: #00d7ff\">None</span>, <span style=\"color: #00af00; text-decoration-color: #00af00\">127</span>)                 │          <span style=\"color: #00af00; text-decoration-color: #00af00\">99,695</span> │\n",
              "├──────────────────────────────────────┼─────────────────────────────┼─────────────────┤\n",
              "│ dense_1457 (<span style=\"color: #0087ff; text-decoration-color: #0087ff\">Dense</span>)                   │ (<span style=\"color: #00d7ff; text-decoration-color: #00d7ff\">None</span>, <span style=\"color: #00af00; text-decoration-color: #00af00\">127</span>)                 │          <span style=\"color: #00af00; text-decoration-color: #00af00\">16,256</span> │\n",
              "├──────────────────────────────────────┼─────────────────────────────┼─────────────────┤\n",
              "│ dense_1458 (<span style=\"color: #0087ff; text-decoration-color: #0087ff\">Dense</span>)                   │ (<span style=\"color: #00d7ff; text-decoration-color: #00d7ff\">None</span>, <span style=\"color: #00af00; text-decoration-color: #00af00\">127</span>)                 │          <span style=\"color: #00af00; text-decoration-color: #00af00\">16,256</span> │\n",
              "├──────────────────────────────────────┼─────────────────────────────┼─────────────────┤\n",
              "│ dense_1459 (<span style=\"color: #0087ff; text-decoration-color: #0087ff\">Dense</span>)                   │ (<span style=\"color: #00d7ff; text-decoration-color: #00d7ff\">None</span>, <span style=\"color: #00af00; text-decoration-color: #00af00\">44</span>)                  │           <span style=\"color: #00af00; text-decoration-color: #00af00\">5,632</span> │\n",
              "├──────────────────────────────────────┼─────────────────────────────┼─────────────────┤\n",
              "│ dense_1460 (<span style=\"color: #0087ff; text-decoration-color: #0087ff\">Dense</span>)                   │ (<span style=\"color: #00d7ff; text-decoration-color: #00d7ff\">None</span>, <span style=\"color: #00af00; text-decoration-color: #00af00\">10</span>)                  │             <span style=\"color: #00af00; text-decoration-color: #00af00\">450</span> │\n",
              "└──────────────────────────────────────┴─────────────────────────────┴─────────────────┘\n",
              "</pre>\n"
            ]
          },
          "metadata": {}
        },
        {
          "output_type": "display_data",
          "data": {
            "text/plain": [
              "\u001b[1m Total params: \u001b[0m\u001b[38;5;34m138,289\u001b[0m (540.19 KB)\n"
            ],
            "text/html": [
              "<pre style=\"white-space:pre;overflow-x:auto;line-height:normal;font-family:Menlo,'DejaVu Sans Mono',consolas,'Courier New',monospace\"><span style=\"font-weight: bold\"> Total params: </span><span style=\"color: #00af00; text-decoration-color: #00af00\">138,289</span> (540.19 KB)\n",
              "</pre>\n"
            ]
          },
          "metadata": {}
        },
        {
          "output_type": "display_data",
          "data": {
            "text/plain": [
              "\u001b[1m Trainable params: \u001b[0m\u001b[38;5;34m138,289\u001b[0m (540.19 KB)\n"
            ],
            "text/html": [
              "<pre style=\"white-space:pre;overflow-x:auto;line-height:normal;font-family:Menlo,'DejaVu Sans Mono',consolas,'Courier New',monospace\"><span style=\"font-weight: bold\"> Trainable params: </span><span style=\"color: #00af00; text-decoration-color: #00af00\">138,289</span> (540.19 KB)\n",
              "</pre>\n"
            ]
          },
          "metadata": {}
        },
        {
          "output_type": "display_data",
          "data": {
            "text/plain": [
              "\u001b[1m Non-trainable params: \u001b[0m\u001b[38;5;34m0\u001b[0m (0.00 B)\n"
            ],
            "text/html": [
              "<pre style=\"white-space:pre;overflow-x:auto;line-height:normal;font-family:Menlo,'DejaVu Sans Mono',consolas,'Courier New',monospace\"><span style=\"font-weight: bold\"> Non-trainable params: </span><span style=\"color: #00af00; text-decoration-color: #00af00\">0</span> (0.00 B)\n",
              "</pre>\n"
            ]
          },
          "metadata": {}
        }
      ],
      "source": [
        "inputs = keras.Input(shape=input_shape)\n",
        "x = layers.Dense(127, activation='tanh')(inputs)\n",
        "x = layers.Dense(127, activation='relu')(x)\n",
        "x = layers.Dense(127, activation='relu')(x)\n",
        "x = layers.Dense(44, activation='leaky_relu')(x)\n",
        "outputs =layers.Dense(10, activation='softmax')(x)\n",
        "model_func = keras.Model(inputs=inputs, outputs=outputs)\n",
        "\n",
        "model_func.summary()"
      ]
    },
    {
      "cell_type": "code",
      "execution_count": 124,
      "metadata": {
        "id": "r1o-Qp_idgC5",
        "colab": {
          "base_uri": "https://localhost:8080/"
        },
        "outputId": "7df44daf-89c5-4fd5-ff02-1b83b6edb935"
      },
      "outputs": [
        {
          "output_type": "stream",
          "name": "stdout",
          "text": [
            "Epoch 1/20\n",
            "\u001b[1m422/422\u001b[0m \u001b[32m━━━━━━━━━━━━━━━━━━━━\u001b[0m\u001b[37m\u001b[0m \u001b[1m4s\u001b[0m 6ms/step - accuracy: 0.7392 - loss: 0.7483 - val_accuracy: 0.8572 - val_loss: 0.3906\n",
            "Epoch 2/20\n",
            "\u001b[1m422/422\u001b[0m \u001b[32m━━━━━━━━━━━━━━━━━━━━\u001b[0m\u001b[37m\u001b[0m \u001b[1m6s\u001b[0m 7ms/step - accuracy: 0.8608 - loss: 0.3786 - val_accuracy: 0.8582 - val_loss: 0.3802\n",
            "Epoch 3/20\n",
            "\u001b[1m422/422\u001b[0m \u001b[32m━━━━━━━━━━━━━━━━━━━━\u001b[0m\u001b[37m\u001b[0m \u001b[1m4s\u001b[0m 6ms/step - accuracy: 0.8738 - loss: 0.3423 - val_accuracy: 0.8738 - val_loss: 0.3406\n",
            "Epoch 4/20\n",
            "\u001b[1m422/422\u001b[0m \u001b[32m━━━━━━━━━━━━━━━━━━━━\u001b[0m\u001b[37m\u001b[0m \u001b[1m3s\u001b[0m 6ms/step - accuracy: 0.8816 - loss: 0.3198 - val_accuracy: 0.8765 - val_loss: 0.3300\n",
            "Epoch 5/20\n",
            "\u001b[1m422/422\u001b[0m \u001b[32m━━━━━━━━━━━━━━━━━━━━\u001b[0m\u001b[37m\u001b[0m \u001b[1m3s\u001b[0m 6ms/step - accuracy: 0.8927 - loss: 0.2875 - val_accuracy: 0.8808 - val_loss: 0.3316\n",
            "Epoch 6/20\n",
            "\u001b[1m422/422\u001b[0m \u001b[32m━━━━━━━━━━━━━━━━━━━━\u001b[0m\u001b[37m\u001b[0m \u001b[1m3s\u001b[0m 8ms/step - accuracy: 0.8965 - loss: 0.2744 - val_accuracy: 0.8825 - val_loss: 0.3197\n",
            "Epoch 7/20\n",
            "\u001b[1m422/422\u001b[0m \u001b[32m━━━━━━━━━━━━━━━━━━━━\u001b[0m\u001b[37m\u001b[0m \u001b[1m4s\u001b[0m 6ms/step - accuracy: 0.8990 - loss: 0.2704 - val_accuracy: 0.8772 - val_loss: 0.3375\n",
            "Epoch 8/20\n",
            "\u001b[1m422/422\u001b[0m \u001b[32m━━━━━━━━━━━━━━━━━━━━\u001b[0m\u001b[37m\u001b[0m \u001b[1m2s\u001b[0m 6ms/step - accuracy: 0.9008 - loss: 0.2612 - val_accuracy: 0.8830 - val_loss: 0.3154\n",
            "Epoch 9/20\n",
            "\u001b[1m422/422\u001b[0m \u001b[32m━━━━━━━━━━━━━━━━━━━━\u001b[0m\u001b[37m\u001b[0m \u001b[1m2s\u001b[0m 6ms/step - accuracy: 0.9076 - loss: 0.2445 - val_accuracy: 0.8888 - val_loss: 0.3050\n",
            "Epoch 10/20\n",
            "\u001b[1m422/422\u001b[0m \u001b[32m━━━━━━━━━━━━━━━━━━━━\u001b[0m\u001b[37m\u001b[0m \u001b[1m4s\u001b[0m 8ms/step - accuracy: 0.9146 - loss: 0.2276 - val_accuracy: 0.8855 - val_loss: 0.3208\n",
            "Epoch 11/20\n",
            "\u001b[1m422/422\u001b[0m \u001b[32m━━━━━━━━━━━━━━━━━━━━\u001b[0m\u001b[37m\u001b[0m \u001b[1m2s\u001b[0m 6ms/step - accuracy: 0.9142 - loss: 0.2266 - val_accuracy: 0.8890 - val_loss: 0.3267\n",
            "Epoch 12/20\n",
            "\u001b[1m422/422\u001b[0m \u001b[32m━━━━━━━━━━━━━━━━━━━━\u001b[0m\u001b[37m\u001b[0m \u001b[1m2s\u001b[0m 6ms/step - accuracy: 0.9191 - loss: 0.2149 - val_accuracy: 0.8853 - val_loss: 0.3249\n",
            "Epoch 13/20\n",
            "\u001b[1m422/422\u001b[0m \u001b[32m━━━━━━━━━━━━━━━━━━━━\u001b[0m\u001b[37m\u001b[0m \u001b[1m2s\u001b[0m 6ms/step - accuracy: 0.9185 - loss: 0.2148 - val_accuracy: 0.8897 - val_loss: 0.3018\n",
            "Epoch 14/20\n",
            "\u001b[1m422/422\u001b[0m \u001b[32m━━━━━━━━━━━━━━━━━━━━\u001b[0m\u001b[37m\u001b[0m \u001b[1m2s\u001b[0m 5ms/step - accuracy: 0.9256 - loss: 0.2000 - val_accuracy: 0.8945 - val_loss: 0.3238\n",
            "Epoch 15/20\n",
            "\u001b[1m422/422\u001b[0m \u001b[32m━━━━━━━━━━━━━━━━━━━━\u001b[0m\u001b[37m\u001b[0m \u001b[1m4s\u001b[0m 8ms/step - accuracy: 0.9246 - loss: 0.2008 - val_accuracy: 0.8790 - val_loss: 0.3590\n",
            "Epoch 16/20\n",
            "\u001b[1m422/422\u001b[0m \u001b[32m━━━━━━━━━━━━━━━━━━━━\u001b[0m\u001b[37m\u001b[0m \u001b[1m2s\u001b[0m 6ms/step - accuracy: 0.9267 - loss: 0.1948 - val_accuracy: 0.8875 - val_loss: 0.3371\n",
            "Epoch 17/20\n",
            "\u001b[1m422/422\u001b[0m \u001b[32m━━━━━━━━━━━━━━━━━━━━\u001b[0m\u001b[37m\u001b[0m \u001b[1m2s\u001b[0m 5ms/step - accuracy: 0.9297 - loss: 0.1840 - val_accuracy: 0.8922 - val_loss: 0.3210\n",
            "Epoch 18/20\n",
            "\u001b[1m422/422\u001b[0m \u001b[32m━━━━━━━━━━━━━━━━━━━━\u001b[0m\u001b[37m\u001b[0m \u001b[1m2s\u001b[0m 6ms/step - accuracy: 0.9318 - loss: 0.1812 - val_accuracy: 0.8907 - val_loss: 0.3387\n",
            "Epoch 19/20\n",
            "\u001b[1m422/422\u001b[0m \u001b[32m━━━━━━━━━━━━━━━━━━━━\u001b[0m\u001b[37m\u001b[0m \u001b[1m3s\u001b[0m 6ms/step - accuracy: 0.9368 - loss: 0.1697 - val_accuracy: 0.8913 - val_loss: 0.3305\n",
            "Epoch 20/20\n",
            "\u001b[1m422/422\u001b[0m \u001b[32m━━━━━━━━━━━━━━━━━━━━\u001b[0m\u001b[37m\u001b[0m \u001b[1m3s\u001b[0m 8ms/step - accuracy: 0.9360 - loss: 0.1659 - val_accuracy: 0.8880 - val_loss: 0.3555\n"
          ]
        },
        {
          "output_type": "execute_result",
          "data": {
            "text/plain": [
              "<keras.src.callbacks.history.History at 0x7c58b396ba90>"
            ]
          },
          "metadata": {},
          "execution_count": 124
        }
      ],
      "source": [
        "model_func.compile(loss='categorical_crossentropy', optimizer='adam', metrics=['accuracy'])\n",
        "model_func.fit(x_train, y_train, batch_size=batch_size, epochs=epochs, validation_split=.1)"
      ]
    },
    {
      "cell_type": "code",
      "execution_count": 126,
      "metadata": {
        "colab": {
          "base_uri": "https://localhost:8080/"
        },
        "id": "qDWYfyuqd1iu",
        "outputId": "73996c58-cc08-4a91-b774-0fcae805733d"
      },
      "outputs": [
        {
          "output_type": "stream",
          "name": "stdout",
          "text": [
            "Test loss: 0.3758912980556488\n",
            "Test accuracy: 0.8844000101089478\n"
          ]
        }
      ],
      "source": [
        "score = model_func.evaluate(x_test, y_test, verbose=0)\n",
        "print(\"Test loss:\", score[0])\n",
        "print(\"Test accuracy:\", score[1])"
      ]
    },
    {
      "cell_type": "markdown",
      "metadata": {
        "id": "aW4NCBCqeRrl"
      },
      "source": [
        "<h2> Python Class Implementation </h2>"
      ]
    },
    {
      "cell_type": "code",
      "execution_count": 128,
      "metadata": {
        "id": "7cJuqdqBd_UB"
      },
      "outputs": [],
      "source": [
        "class DNN(keras.Model):\n",
        "    def __init__(self, input_dim=784):\n",
        "        super().__init__()\n",
        "        self.dense1 = layers.Dense(127, activation='tanh', input_shape=(input_dim,))\n",
        "        self.dense2 = layers.Dense(127, activation='relu')\n",
        "        self.dense3 = layers.Dense(127, activation='relu')\n",
        "        self.dense4 = layers.Dense(44, activation='leaky_relu')\n",
        "        self.dense5 = layers.Dense(10, activation='softmax')\n",
        "\n",
        "    def build(self, input_shape):\n",
        "        self.dense1.build(input_shape)\n",
        "        input_shape = self.dense1.compute_output_shape(input_shape)\n",
        "\n",
        "        self.dense2.build(input_shape)\n",
        "        input_shape = self.dense2.compute_output_shape(input_shape)\n",
        "\n",
        "        self.dense3.build(input_shape)\n",
        "        input_shape = self.dense3.compute_output_shape(input_shape)\n",
        "\n",
        "        self.dense4.build(input_shape)\n",
        "        input_shape = self.dense4.compute_output_shape(input_shape)\n",
        "\n",
        "        self.dense5.build(input_shape)\n",
        "        input_shape = self.dense5.compute_output_shape(input_shape)\n",
        "        self.built = True\n",
        "\n",
        "    def call(self, inputs):\n",
        "        x = self.dense1(inputs)\n",
        "        x = self.dense2(x)\n",
        "        x = self.dense3(x)\n",
        "        x = self.dense4(x)\n",
        "        x = self.dense5(x)\n",
        "        return x"
      ]
    },
    {
      "cell_type": "code",
      "execution_count": 131,
      "metadata": {
        "colab": {
          "base_uri": "https://localhost:8080/",
          "height": 289
        },
        "id": "jdfSsyR0fB4x",
        "outputId": "1932377d-5b11-44b7-c786-5527af06c3ce"
      },
      "outputs": [
        {
          "output_type": "display_data",
          "data": {
            "text/plain": [
              "\u001b[1mModel: \"dnn_853\"\u001b[0m\n"
            ],
            "text/html": [
              "<pre style=\"white-space:pre;overflow-x:auto;line-height:normal;font-family:Menlo,'DejaVu Sans Mono',consolas,'Courier New',monospace\"><span style=\"font-weight: bold\">Model: \"dnn_853\"</span>\n",
              "</pre>\n"
            ]
          },
          "metadata": {}
        },
        {
          "output_type": "display_data",
          "data": {
            "text/plain": [
              "┏━━━━━━━━━━━━━━━━━━━━━━━━━━━━━━━━━━━━━━┳━━━━━━━━━━━━━━━━━━━━━━━━━━━━━┳━━━━━━━━━━━━━━━━━┓\n",
              "┃\u001b[1m \u001b[0m\u001b[1mLayer (type)                        \u001b[0m\u001b[1m \u001b[0m┃\u001b[1m \u001b[0m\u001b[1mOutput Shape               \u001b[0m\u001b[1m \u001b[0m┃\u001b[1m \u001b[0m\u001b[1m        Param #\u001b[0m\u001b[1m \u001b[0m┃\n",
              "┡━━━━━━━━━━━━━━━━━━━━━━━━━━━━━━━━━━━━━━╇━━━━━━━━━━━━━━━━━━━━━━━━━━━━━╇━━━━━━━━━━━━━━━━━┩\n",
              "│ dense_1476 (\u001b[38;5;33mDense\u001b[0m)                   │ (\u001b[38;5;34m127\u001b[0m)                       │          \u001b[38;5;34m99,695\u001b[0m │\n",
              "├──────────────────────────────────────┼─────────────────────────────┼─────────────────┤\n",
              "│ dense_1477 (\u001b[38;5;33mDense\u001b[0m)                   │ (\u001b[38;5;34m127\u001b[0m)                       │          \u001b[38;5;34m16,256\u001b[0m │\n",
              "├──────────────────────────────────────┼─────────────────────────────┼─────────────────┤\n",
              "│ dense_1478 (\u001b[38;5;33mDense\u001b[0m)                   │ (\u001b[38;5;34m127\u001b[0m)                       │          \u001b[38;5;34m16,256\u001b[0m │\n",
              "├──────────────────────────────────────┼─────────────────────────────┼─────────────────┤\n",
              "│ dense_1479 (\u001b[38;5;33mDense\u001b[0m)                   │ (\u001b[38;5;34m44\u001b[0m)                        │           \u001b[38;5;34m5,632\u001b[0m │\n",
              "├──────────────────────────────────────┼─────────────────────────────┼─────────────────┤\n",
              "│ dense_1480 (\u001b[38;5;33mDense\u001b[0m)                   │ (\u001b[38;5;34m10\u001b[0m)                        │             \u001b[38;5;34m450\u001b[0m │\n",
              "└──────────────────────────────────────┴─────────────────────────────┴─────────────────┘\n"
            ],
            "text/html": [
              "<pre style=\"white-space:pre;overflow-x:auto;line-height:normal;font-family:Menlo,'DejaVu Sans Mono',consolas,'Courier New',monospace\">┏━━━━━━━━━━━━━━━━━━━━━━━━━━━━━━━━━━━━━━┳━━━━━━━━━━━━━━━━━━━━━━━━━━━━━┳━━━━━━━━━━━━━━━━━┓\n",
              "┃<span style=\"font-weight: bold\"> Layer (type)                         </span>┃<span style=\"font-weight: bold\"> Output Shape                </span>┃<span style=\"font-weight: bold\">         Param # </span>┃\n",
              "┡━━━━━━━━━━━━━━━━━━━━━━━━━━━━━━━━━━━━━━╇━━━━━━━━━━━━━━━━━━━━━━━━━━━━━╇━━━━━━━━━━━━━━━━━┩\n",
              "│ dense_1476 (<span style=\"color: #0087ff; text-decoration-color: #0087ff\">Dense</span>)                   │ (<span style=\"color: #00af00; text-decoration-color: #00af00\">127</span>)                       │          <span style=\"color: #00af00; text-decoration-color: #00af00\">99,695</span> │\n",
              "├──────────────────────────────────────┼─────────────────────────────┼─────────────────┤\n",
              "│ dense_1477 (<span style=\"color: #0087ff; text-decoration-color: #0087ff\">Dense</span>)                   │ (<span style=\"color: #00af00; text-decoration-color: #00af00\">127</span>)                       │          <span style=\"color: #00af00; text-decoration-color: #00af00\">16,256</span> │\n",
              "├──────────────────────────────────────┼─────────────────────────────┼─────────────────┤\n",
              "│ dense_1478 (<span style=\"color: #0087ff; text-decoration-color: #0087ff\">Dense</span>)                   │ (<span style=\"color: #00af00; text-decoration-color: #00af00\">127</span>)                       │          <span style=\"color: #00af00; text-decoration-color: #00af00\">16,256</span> │\n",
              "├──────────────────────────────────────┼─────────────────────────────┼─────────────────┤\n",
              "│ dense_1479 (<span style=\"color: #0087ff; text-decoration-color: #0087ff\">Dense</span>)                   │ (<span style=\"color: #00af00; text-decoration-color: #00af00\">44</span>)                        │           <span style=\"color: #00af00; text-decoration-color: #00af00\">5,632</span> │\n",
              "├──────────────────────────────────────┼─────────────────────────────┼─────────────────┤\n",
              "│ dense_1480 (<span style=\"color: #0087ff; text-decoration-color: #0087ff\">Dense</span>)                   │ (<span style=\"color: #00af00; text-decoration-color: #00af00\">10</span>)                        │             <span style=\"color: #00af00; text-decoration-color: #00af00\">450</span> │\n",
              "└──────────────────────────────────────┴─────────────────────────────┴─────────────────┘\n",
              "</pre>\n"
            ]
          },
          "metadata": {}
        },
        {
          "output_type": "display_data",
          "data": {
            "text/plain": [
              "\u001b[1m Total params: \u001b[0m\u001b[38;5;34m138,289\u001b[0m (540.19 KB)\n"
            ],
            "text/html": [
              "<pre style=\"white-space:pre;overflow-x:auto;line-height:normal;font-family:Menlo,'DejaVu Sans Mono',consolas,'Courier New',monospace\"><span style=\"font-weight: bold\"> Total params: </span><span style=\"color: #00af00; text-decoration-color: #00af00\">138,289</span> (540.19 KB)\n",
              "</pre>\n"
            ]
          },
          "metadata": {}
        },
        {
          "output_type": "display_data",
          "data": {
            "text/plain": [
              "\u001b[1m Trainable params: \u001b[0m\u001b[38;5;34m138,289\u001b[0m (540.19 KB)\n"
            ],
            "text/html": [
              "<pre style=\"white-space:pre;overflow-x:auto;line-height:normal;font-family:Menlo,'DejaVu Sans Mono',consolas,'Courier New',monospace\"><span style=\"font-weight: bold\"> Trainable params: </span><span style=\"color: #00af00; text-decoration-color: #00af00\">138,289</span> (540.19 KB)\n",
              "</pre>\n"
            ]
          },
          "metadata": {}
        },
        {
          "output_type": "display_data",
          "data": {
            "text/plain": [
              "\u001b[1m Non-trainable params: \u001b[0m\u001b[38;5;34m0\u001b[0m (0.00 B)\n"
            ],
            "text/html": [
              "<pre style=\"white-space:pre;overflow-x:auto;line-height:normal;font-family:Menlo,'DejaVu Sans Mono',consolas,'Courier New',monospace\"><span style=\"font-weight: bold\"> Non-trainable params: </span><span style=\"color: #00af00; text-decoration-color: #00af00\">0</span> (0.00 B)\n",
              "</pre>\n"
            ]
          },
          "metadata": {}
        }
      ],
      "source": [
        "model_class = DNN()\n",
        "model_class.build((784,))\n",
        "model_class.summary()"
      ]
    },
    {
      "cell_type": "code",
      "execution_count": 132,
      "metadata": {
        "id": "TU5t1i20fHlT",
        "colab": {
          "base_uri": "https://localhost:8080/"
        },
        "outputId": "cde3db87-7257-4481-e1e7-1d7428059bc8"
      },
      "outputs": [
        {
          "output_type": "stream",
          "name": "stdout",
          "text": [
            "Epoch 1/20\n",
            "\u001b[1m422/422\u001b[0m \u001b[32m━━━━━━━━━━━━━━━━━━━━\u001b[0m\u001b[37m\u001b[0m \u001b[1m4s\u001b[0m 6ms/step - accuracy: 0.7214 - loss: 0.7637 - val_accuracy: 0.8165 - val_loss: 0.4747\n",
            "Epoch 2/20\n",
            "\u001b[1m422/422\u001b[0m \u001b[32m━━━━━━━━━━━━━━━━━━━━\u001b[0m\u001b[37m\u001b[0m \u001b[1m6s\u001b[0m 8ms/step - accuracy: 0.8590 - loss: 0.3841 - val_accuracy: 0.8477 - val_loss: 0.3969\n",
            "Epoch 3/20\n",
            "\u001b[1m422/422\u001b[0m \u001b[32m━━━━━━━━━━━━━━━━━━━━\u001b[0m\u001b[37m\u001b[0m \u001b[1m2s\u001b[0m 6ms/step - accuracy: 0.8736 - loss: 0.3412 - val_accuracy: 0.8608 - val_loss: 0.3696\n",
            "Epoch 4/20\n",
            "\u001b[1m422/422\u001b[0m \u001b[32m━━━━━━━━━━━━━━━━━━━━\u001b[0m\u001b[37m\u001b[0m \u001b[1m2s\u001b[0m 6ms/step - accuracy: 0.8850 - loss: 0.3113 - val_accuracy: 0.8773 - val_loss: 0.3260\n",
            "Epoch 5/20\n",
            "\u001b[1m422/422\u001b[0m \u001b[32m━━━━━━━━━━━━━━━━━━━━\u001b[0m\u001b[37m\u001b[0m \u001b[1m2s\u001b[0m 6ms/step - accuracy: 0.8938 - loss: 0.2854 - val_accuracy: 0.8840 - val_loss: 0.3144\n",
            "Epoch 6/20\n",
            "\u001b[1m422/422\u001b[0m \u001b[32m━━━━━━━━━━━━━━━━━━━━\u001b[0m\u001b[37m\u001b[0m \u001b[1m2s\u001b[0m 6ms/step - accuracy: 0.8969 - loss: 0.2772 - val_accuracy: 0.8837 - val_loss: 0.3225\n",
            "Epoch 7/20\n",
            "\u001b[1m422/422\u001b[0m \u001b[32m━━━━━━━━━━━━━━━━━━━━\u001b[0m\u001b[37m\u001b[0m \u001b[1m4s\u001b[0m 8ms/step - accuracy: 0.9035 - loss: 0.2585 - val_accuracy: 0.8775 - val_loss: 0.3338\n",
            "Epoch 8/20\n",
            "\u001b[1m422/422\u001b[0m \u001b[32m━━━━━━━━━━━━━━━━━━━━\u001b[0m\u001b[37m\u001b[0m \u001b[1m2s\u001b[0m 6ms/step - accuracy: 0.9049 - loss: 0.2534 - val_accuracy: 0.8825 - val_loss: 0.3314\n",
            "Epoch 9/20\n",
            "\u001b[1m422/422\u001b[0m \u001b[32m━━━━━━━━━━━━━━━━━━━━\u001b[0m\u001b[37m\u001b[0m \u001b[1m3s\u001b[0m 6ms/step - accuracy: 0.9103 - loss: 0.2394 - val_accuracy: 0.8860 - val_loss: 0.3108\n",
            "Epoch 10/20\n",
            "\u001b[1m422/422\u001b[0m \u001b[32m━━━━━━━━━━━━━━━━━━━━\u001b[0m\u001b[37m\u001b[0m \u001b[1m2s\u001b[0m 6ms/step - accuracy: 0.9148 - loss: 0.2285 - val_accuracy: 0.8872 - val_loss: 0.3143\n",
            "Epoch 11/20\n",
            "\u001b[1m422/422\u001b[0m \u001b[32m━━━━━━━━━━━━━━━━━━━━\u001b[0m\u001b[37m\u001b[0m \u001b[1m3s\u001b[0m 8ms/step - accuracy: 0.9169 - loss: 0.2229 - val_accuracy: 0.8887 - val_loss: 0.3066\n",
            "Epoch 12/20\n",
            "\u001b[1m422/422\u001b[0m \u001b[32m━━━━━━━━━━━━━━━━━━━━\u001b[0m\u001b[37m\u001b[0m \u001b[1m4s\u001b[0m 6ms/step - accuracy: 0.9197 - loss: 0.2101 - val_accuracy: 0.8882 - val_loss: 0.3240\n",
            "Epoch 13/20\n",
            "\u001b[1m422/422\u001b[0m \u001b[32m━━━━━━━━━━━━━━━━━━━━\u001b[0m\u001b[37m\u001b[0m \u001b[1m2s\u001b[0m 6ms/step - accuracy: 0.9195 - loss: 0.2113 - val_accuracy: 0.8830 - val_loss: 0.3217\n",
            "Epoch 14/20\n",
            "\u001b[1m422/422\u001b[0m \u001b[32m━━━━━━━━━━━━━━━━━━━━\u001b[0m\u001b[37m\u001b[0m \u001b[1m2s\u001b[0m 6ms/step - accuracy: 0.9232 - loss: 0.1997 - val_accuracy: 0.8903 - val_loss: 0.3272\n",
            "Epoch 15/20\n",
            "\u001b[1m422/422\u001b[0m \u001b[32m━━━━━━━━━━━━━━━━━━━━\u001b[0m\u001b[37m\u001b[0m \u001b[1m4s\u001b[0m 8ms/step - accuracy: 0.9264 - loss: 0.1912 - val_accuracy: 0.8857 - val_loss: 0.3407\n",
            "Epoch 16/20\n",
            "\u001b[1m422/422\u001b[0m \u001b[32m━━━━━━━━━━━━━━━━━━━━\u001b[0m\u001b[37m\u001b[0m \u001b[1m4s\u001b[0m 6ms/step - accuracy: 0.9277 - loss: 0.1887 - val_accuracy: 0.8840 - val_loss: 0.3393\n",
            "Epoch 17/20\n",
            "\u001b[1m422/422\u001b[0m \u001b[32m━━━━━━━━━━━━━━━━━━━━\u001b[0m\u001b[37m\u001b[0m \u001b[1m2s\u001b[0m 6ms/step - accuracy: 0.9315 - loss: 0.1764 - val_accuracy: 0.8937 - val_loss: 0.3329\n",
            "Epoch 18/20\n",
            "\u001b[1m422/422\u001b[0m \u001b[32m━━━━━━━━━━━━━━━━━━━━\u001b[0m\u001b[37m\u001b[0m \u001b[1m3s\u001b[0m 6ms/step - accuracy: 0.9338 - loss: 0.1746 - val_accuracy: 0.8883 - val_loss: 0.3402\n",
            "Epoch 19/20\n",
            "\u001b[1m422/422\u001b[0m \u001b[32m━━━━━━━━━━━━━━━━━━━━\u001b[0m\u001b[37m\u001b[0m \u001b[1m4s\u001b[0m 8ms/step - accuracy: 0.9349 - loss: 0.1683 - val_accuracy: 0.8890 - val_loss: 0.3440\n",
            "Epoch 20/20\n",
            "\u001b[1m422/422\u001b[0m \u001b[32m━━━━━━━━━━━━━━━━━━━━\u001b[0m\u001b[37m\u001b[0m \u001b[1m4s\u001b[0m 6ms/step - accuracy: 0.9379 - loss: 0.1673 - val_accuracy: 0.8905 - val_loss: 0.3533\n"
          ]
        },
        {
          "output_type": "execute_result",
          "data": {
            "text/plain": [
              "<keras.src.callbacks.history.History at 0x7c58ebb62f50>"
            ]
          },
          "metadata": {},
          "execution_count": 132
        }
      ],
      "source": [
        "model_class.compile(loss='categorical_crossentropy', optimizer='adam', metrics=['accuracy'])\n",
        "model_class.fit(x_train, y_train, batch_size=batch_size, epochs=epochs, validation_split=.1)"
      ]
    },
    {
      "cell_type": "code",
      "execution_count": 133,
      "metadata": {
        "colab": {
          "base_uri": "https://localhost:8080/"
        },
        "id": "Rh7Q8jO4fhux",
        "outputId": "842e0fb7-88fc-434e-94c8-bae69532708f"
      },
      "outputs": [
        {
          "output_type": "stream",
          "name": "stdout",
          "text": [
            "Test loss: 0.36220479011535645\n",
            "Test accuracy: 0.8848999738693237\n"
          ]
        }
      ],
      "source": [
        "score = model_class.evaluate(x_test, y_test, verbose=0)\n",
        "print(\"Test loss:\", score[0])\n",
        "print(\"Test accuracy:\", score[1])"
      ]
    }
  ],
  "metadata": {
    "colab": {
      "provenance": []
    },
    "kernelspec": {
      "display_name": "Python 3",
      "name": "python3"
    },
    "language_info": {
      "name": "python"
    }
  },
  "nbformat": 4,
  "nbformat_minor": 0
}